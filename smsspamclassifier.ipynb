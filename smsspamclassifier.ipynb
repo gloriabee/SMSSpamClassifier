{
 "cells": [
  {
   "cell_type": "code",
   "execution_count": 77,
   "id": "4b772d42",
   "metadata": {
    "_cell_guid": "b1076dfc-b9ad-4769-8c92-a6c4dae69d19",
    "_uuid": "8f2839f25d086af736a60e9eeb907d3b93b6e0e5",
    "execution": {
     "iopub.execute_input": "2025-03-03T17:10:44.290255Z",
     "iopub.status.busy": "2025-03-03T17:10:44.289735Z",
     "iopub.status.idle": "2025-03-03T17:10:45.342128Z",
     "shell.execute_reply": "2025-03-03T17:10:45.340812Z"
    },
    "papermill": {
     "duration": 1.064228,
     "end_time": "2025-03-03T17:10:45.344009",
     "exception": false,
     "start_time": "2025-03-03T17:10:44.279781",
     "status": "completed"
    },
    "tags": []
   },
   "outputs": [],
   "source": [
    "# This Python 3 environment comes with many helpful analytics libraries installed\n",
    "# It is defined by the kaggle/python Docker image: https://github.com/kaggle/docker-python\n",
    "# For example, here's several helpful packages to load\n",
    "\n",
    "import numpy as np # linear algebra\n",
    "import pandas as pd # data processing, CSV file I/O (e.g. pd.read_csv)\n",
    "\n",
    "# Input data files are available in the read-only \"../input/\" directory\n",
    "# For example, running this (by clicking run or pressing Shift+Enter) will list all files under the input directory\n",
    "\n",
    "import os\n",
    "for dirname, _, filenames in os.walk('/kaggle/input'):\n",
    "    for filename in filenames:\n",
    "        print(os.path.join(dirname, filename))\n",
    "\n",
    "# You can write up to 20GB to the current directory (/kaggle/working/) that gets preserved as output when you create a version using \"Save & Run All\" \n",
    "# You can also write temporary files to /kaggle/temp/, but they won't be saved outside of the current session"
   ]
  },
  {
   "cell_type": "markdown",
   "id": "231d02cf",
   "metadata": {
    "papermill": {
     "duration": 0.007926,
     "end_time": "2025-03-03T17:10:45.360326",
     "exception": false,
     "start_time": "2025-03-03T17:10:45.352400",
     "status": "completed"
    },
    "tags": []
   },
   "source": [
    "## Project Day"
   ]
  },
  {
   "cell_type": "markdown",
   "id": "5735869a",
   "metadata": {
    "papermill": {
     "duration": 0.007702,
     "end_time": "2025-03-03T17:10:45.376459",
     "exception": false,
     "start_time": "2025-03-03T17:10:45.368757",
     "status": "completed"
    },
    "tags": []
   },
   "source": [
    "### Importing the dataset"
   ]
  },
  {
   "cell_type": "code",
   "execution_count": 78,
   "id": "fa46ba04",
   "metadata": {
    "execution": {
     "iopub.execute_input": "2025-03-03T17:10:45.394319Z",
     "iopub.status.busy": "2025-03-03T17:10:45.393787Z",
     "iopub.status.idle": "2025-03-03T17:10:45.466171Z",
     "shell.execute_reply": "2025-03-03T17:10:45.464935Z"
    },
    "papermill": {
     "duration": 0.08331,
     "end_time": "2025-03-03T17:10:45.468162",
     "exception": false,
     "start_time": "2025-03-03T17:10:45.384852",
     "status": "completed"
    },
    "tags": []
   },
   "outputs": [
    {
     "data": {
      "text/html": [
       "<div>\n",
       "<style scoped>\n",
       "    .dataframe tbody tr th:only-of-type {\n",
       "        vertical-align: middle;\n",
       "    }\n",
       "\n",
       "    .dataframe tbody tr th {\n",
       "        vertical-align: top;\n",
       "    }\n",
       "\n",
       "    .dataframe thead th {\n",
       "        text-align: right;\n",
       "    }\n",
       "</style>\n",
       "<table border=\"1\" class=\"dataframe\">\n",
       "  <thead>\n",
       "    <tr style=\"text-align: right;\">\n",
       "      <th></th>\n",
       "      <th>label</th>\n",
       "      <th>message</th>\n",
       "    </tr>\n",
       "  </thead>\n",
       "  <tbody>\n",
       "    <tr>\n",
       "      <th>0</th>\n",
       "      <td>ham</td>\n",
       "      <td>Go until jurong point, crazy.. Available only ...</td>\n",
       "    </tr>\n",
       "    <tr>\n",
       "      <th>1</th>\n",
       "      <td>ham</td>\n",
       "      <td>Ok lar... Joking wif u oni...</td>\n",
       "    </tr>\n",
       "    <tr>\n",
       "      <th>2</th>\n",
       "      <td>spam</td>\n",
       "      <td>Free entry in 2 a wkly comp to win FA Cup fina...</td>\n",
       "    </tr>\n",
       "    <tr>\n",
       "      <th>3</th>\n",
       "      <td>ham</td>\n",
       "      <td>U dun say so early hor... U c already then say...</td>\n",
       "    </tr>\n",
       "    <tr>\n",
       "      <th>4</th>\n",
       "      <td>ham</td>\n",
       "      <td>Nah I don't think he goes to usf, he lives aro...</td>\n",
       "    </tr>\n",
       "  </tbody>\n",
       "</table>\n",
       "</div>"
      ],
      "text/plain": [
       "  label                                            message\n",
       "0   ham  Go until jurong point, crazy.. Available only ...\n",
       "1   ham                      Ok lar... Joking wif u oni...\n",
       "2  spam  Free entry in 2 a wkly comp to win FA Cup fina...\n",
       "3   ham  U dun say so early hor... U c already then say...\n",
       "4   ham  Nah I don't think he goes to usf, he lives aro..."
      ]
     },
     "execution_count": 78,
     "metadata": {},
     "output_type": "execute_result"
    }
   ],
   "source": [
    "df=pd.read_csv(\"spam.csv\",encoding='latin-1')\n",
    "#dropping unrelated columns\n",
    "df=df.drop(columns=['Unnamed: 2', 'Unnamed: 3', 'Unnamed: 4'])\n",
    "#renaming columns\n",
    "df=df.rename(columns={\n",
    "     'v1':'label',\n",
    "    'v2':'message'\n",
    "}\n",
    ")\n",
    "df.head()"
   ]
  },
  {
   "cell_type": "code",
   "execution_count": 79,
   "id": "1c1deb4b",
   "metadata": {
    "execution": {
     "iopub.execute_input": "2025-03-03T17:10:45.486891Z",
     "iopub.status.busy": "2025-03-03T17:10:45.486450Z",
     "iopub.status.idle": "2025-03-03T17:10:45.493403Z",
     "shell.execute_reply": "2025-03-03T17:10:45.491649Z"
    },
    "papermill": {
     "duration": 0.018222,
     "end_time": "2025-03-03T17:10:45.495417",
     "exception": false,
     "start_time": "2025-03-03T17:10:45.477195",
     "status": "completed"
    },
    "tags": []
   },
   "outputs": [
    {
     "data": {
      "text/plain": [
       "(5572, 2)"
      ]
     },
     "execution_count": 79,
     "metadata": {},
     "output_type": "execute_result"
    }
   ],
   "source": [
    "#number of rows and columns\n",
    "df.shape"
   ]
  },
  {
   "cell_type": "markdown",
   "id": "6b12f695",
   "metadata": {
    "papermill": {
     "duration": 0.008005,
     "end_time": "2025-03-03T17:10:45.513488",
     "exception": false,
     "start_time": "2025-03-03T17:10:45.505483",
     "status": "completed"
    },
    "tags": []
   },
   "source": [
    "### Data cleaning and preprocessing"
   ]
  },
  {
   "cell_type": "code",
   "execution_count": 80,
   "id": "86adbd2a",
   "metadata": {
    "execution": {
     "iopub.execute_input": "2025-03-03T17:10:45.531634Z",
     "iopub.status.busy": "2025-03-03T17:10:45.531293Z",
     "iopub.status.idle": "2025-03-03T17:10:48.048668Z",
     "shell.execute_reply": "2025-03-03T17:10:48.047543Z"
    },
    "papermill": {
     "duration": 2.528945,
     "end_time": "2025-03-03T17:10:48.050627",
     "exception": false,
     "start_time": "2025-03-03T17:10:45.521682",
     "status": "completed"
    },
    "tags": []
   },
   "outputs": [
    {
     "name": "stderr",
     "output_type": "stream",
     "text": [
      "[nltk_data] Downloading package punkt to\n",
      "[nltk_data]     C:\\Users\\ExPertComputer\\AppData\\Roaming\\nltk_data...\n",
      "[nltk_data]   Package punkt is already up-to-date!\n"
     ]
    },
    {
     "data": {
      "text/plain": [
       "True"
      ]
     },
     "execution_count": 80,
     "metadata": {},
     "output_type": "execute_result"
    }
   ],
   "source": [
    "import re\n",
    "import nltk\n",
    "nltk.download('punkt')"
   ]
  },
  {
   "cell_type": "code",
   "execution_count": 81,
   "id": "3eef42e5",
   "metadata": {
    "execution": {
     "iopub.execute_input": "2025-03-03T17:10:48.069112Z",
     "iopub.status.busy": "2025-03-03T17:10:48.068558Z",
     "iopub.status.idle": "2025-03-03T17:10:48.577543Z",
     "shell.execute_reply": "2025-03-03T17:10:48.576123Z"
    },
    "papermill": {
     "duration": 0.520472,
     "end_time": "2025-03-03T17:10:48.579692",
     "exception": false,
     "start_time": "2025-03-03T17:10:48.059220",
     "status": "completed"
    },
    "tags": []
   },
   "outputs": [
    {
     "name": "stderr",
     "output_type": "stream",
     "text": [
      "'unzip' is not recognized as an internal or external command,\n",
      "operable program or batch file.\n"
     ]
    }
   ],
   "source": [
    "from nltk.stem import PorterStemmer\n",
    "from nltk.corpus import stopwords\n",
    "from nltk.stem import WordNetLemmatizer\n",
    "!unzip /usr/share/nltk_data/corpora/wordnet.zip -d /usr/share/nltk_data/corpora/"
   ]
  },
  {
   "cell_type": "code",
   "execution_count": 82,
   "id": "682907f8",
   "metadata": {
    "execution": {
     "iopub.execute_input": "2025-03-03T17:10:48.599369Z",
     "iopub.status.busy": "2025-03-03T17:10:48.598914Z",
     "iopub.status.idle": "2025-03-03T17:10:48.603537Z",
     "shell.execute_reply": "2025-03-03T17:10:48.602519Z"
    },
    "papermill": {
     "duration": 0.016464,
     "end_time": "2025-03-03T17:10:48.605324",
     "exception": false,
     "start_time": "2025-03-03T17:10:48.588860",
     "status": "completed"
    },
    "tags": []
   },
   "outputs": [],
   "source": [
    "ps=PorterStemmer()\n",
    "lemmatizer=WordNetLemmatizer()"
   ]
  },
  {
   "cell_type": "code",
   "execution_count": 83,
   "id": "7ea58027",
   "metadata": {
    "execution": {
     "iopub.execute_input": "2025-03-03T17:10:48.628854Z",
     "iopub.status.busy": "2025-03-03T17:10:48.628467Z",
     "iopub.status.idle": "2025-03-03T17:11:01.234019Z",
     "shell.execute_reply": "2025-03-03T17:11:01.232845Z"
    },
    "papermill": {
     "duration": 12.618702,
     "end_time": "2025-03-03T17:11:01.236070",
     "exception": false,
     "start_time": "2025-03-03T17:10:48.617368",
     "status": "completed"
    },
    "tags": []
   },
   "outputs": [],
   "source": [
    "corpus=[]\n",
    "for i in range(len(df)):\n",
    "    review= re.sub('[^a-zA-Z]',' ',df['message'][i])\n",
    "    review= review.lower()\n",
    "    review= review.split()\n",
    "    review= [ps.stem(word) for word in review if word not in set(stopwords.words(\"english\"))]\n",
    "    review= ' '.join(review)\n",
    "    corpus.append(review)\n",
    "    "
   ]
  },
  {
   "cell_type": "markdown",
   "id": "b0039a28",
   "metadata": {
    "papermill": {
     "duration": 0.008376,
     "end_time": "2025-03-03T17:11:01.253613",
     "exception": false,
     "start_time": "2025-03-03T17:11:01.245237",
     "status": "completed"
    },
    "tags": []
   },
   "source": [
    "### Creating bags of words model"
   ]
  },
  {
   "cell_type": "markdown",
   "id": "f636e7c7",
   "metadata": {
    "papermill": {
     "duration": 0.00836,
     "end_time": "2025-03-03T17:11:01.271226",
     "exception": false,
     "start_time": "2025-03-03T17:11:01.262866",
     "status": "completed"
    },
    "tags": []
   },
   "source": [
    "X for message "
   ]
  },
  {
   "cell_type": "code",
   "execution_count": 84,
   "id": "668face4",
   "metadata": {
    "execution": {
     "iopub.execute_input": "2025-03-03T17:11:01.290042Z",
     "iopub.status.busy": "2025-03-03T17:11:01.289612Z",
     "iopub.status.idle": "2025-03-03T17:11:01.483723Z",
     "shell.execute_reply": "2025-03-03T17:11:01.482604Z"
    },
    "papermill": {
     "duration": 0.205652,
     "end_time": "2025-03-03T17:11:01.485578",
     "exception": false,
     "start_time": "2025-03-03T17:11:01.279926",
     "status": "completed"
    },
    "tags": []
   },
   "outputs": [
    {
     "data": {
      "text/plain": [
       "array([[0, 0, 0, ..., 0, 0, 0],\n",
       "       [0, 0, 0, ..., 0, 0, 0],\n",
       "       [0, 0, 0, ..., 0, 0, 0],\n",
       "       ...,\n",
       "       [0, 0, 0, ..., 0, 0, 0],\n",
       "       [0, 0, 0, ..., 0, 0, 0],\n",
       "       [0, 0, 0, ..., 0, 0, 0]], shape=(5572, 2500))"
      ]
     },
     "execution_count": 84,
     "metadata": {},
     "output_type": "execute_result"
    }
   ],
   "source": [
    "from sklearn.feature_extraction.text import CountVectorizer\n",
    "cv=CountVectorizer(max_features=2500,binary=True,ngram_range=(2,2))\n",
    "X= cv.fit_transform(corpus).toarray()\n",
    "X"
   ]
  },
  {
   "cell_type": "markdown",
   "id": "cae173bd",
   "metadata": {
    "papermill": {
     "duration": 0.008294,
     "end_time": "2025-03-03T17:11:01.502807",
     "exception": false,
     "start_time": "2025-03-03T17:11:01.494513",
     "status": "completed"
    },
    "tags": []
   },
   "source": [
    "y for labels"
   ]
  },
  {
   "cell_type": "code",
   "execution_count": 85,
   "id": "cddfcde8",
   "metadata": {},
   "outputs": [],
   "source": [
    "from sklearn.preprocessing import LabelEncoder\n",
    "encoder= LabelEncoder()\n",
    "df['label']=encoder.fit_transform(df['label'])"
   ]
  },
  {
   "cell_type": "code",
   "execution_count": 86,
   "id": "d35dd67c",
   "metadata": {
    "execution": {
     "iopub.execute_input": "2025-03-03T17:11:01.522185Z",
     "iopub.status.busy": "2025-03-03T17:11:01.521797Z",
     "iopub.status.idle": "2025-03-03T17:11:01.533436Z",
     "shell.execute_reply": "2025-03-03T17:11:01.532463Z"
    },
    "papermill": {
     "duration": 0.023562,
     "end_time": "2025-03-03T17:11:01.535176",
     "exception": false,
     "start_time": "2025-03-03T17:11:01.511614",
     "status": "completed"
    },
    "tags": []
   },
   "outputs": [],
   "source": [
    "# y= pd.get_dummies(df['label'])\n",
    "# y=y.iloc[:,1].values\n",
    "y=df['label']"
   ]
  },
  {
   "cell_type": "markdown",
   "id": "e6ae1aa4",
   "metadata": {
    "papermill": {
     "duration": 0.008435,
     "end_time": "2025-03-03T17:11:01.552480",
     "exception": false,
     "start_time": "2025-03-03T17:11:01.544045",
     "status": "completed"
    },
    "tags": []
   },
   "source": [
    "### Train,Test Split"
   ]
  },
  {
   "cell_type": "code",
   "execution_count": 87,
   "id": "f7eed643",
   "metadata": {
    "execution": {
     "iopub.execute_input": "2025-03-03T17:11:01.571392Z",
     "iopub.status.busy": "2025-03-03T17:11:01.571004Z",
     "iopub.status.idle": "2025-03-03T17:11:01.575433Z",
     "shell.execute_reply": "2025-03-03T17:11:01.574280Z"
    },
    "papermill": {
     "duration": 0.016137,
     "end_time": "2025-03-03T17:11:01.577348",
     "exception": false,
     "start_time": "2025-03-03T17:11:01.561211",
     "status": "completed"
    },
    "tags": []
   },
   "outputs": [],
   "source": [
    "from sklearn.model_selection import train_test_split"
   ]
  },
  {
   "cell_type": "code",
   "execution_count": 88,
   "id": "a2d84289",
   "metadata": {
    "execution": {
     "iopub.execute_input": "2025-03-03T17:11:01.596486Z",
     "iopub.status.busy": "2025-03-03T17:11:01.596101Z",
     "iopub.status.idle": "2025-03-03T17:11:01.682122Z",
     "shell.execute_reply": "2025-03-03T17:11:01.681015Z"
    },
    "papermill": {
     "duration": 0.09789,
     "end_time": "2025-03-03T17:11:01.684181",
     "exception": false,
     "start_time": "2025-03-03T17:11:01.586291",
     "status": "completed"
    },
    "tags": []
   },
   "outputs": [],
   "source": [
    "X_train,X_test,y_train,y_test= train_test_split(X,y,test_size=0.20,random_state=0)"
   ]
  },
  {
   "cell_type": "code",
   "execution_count": 89,
   "id": "c6f56a8c",
   "metadata": {
    "execution": {
     "iopub.execute_input": "2025-03-03T17:11:01.703107Z",
     "iopub.status.busy": "2025-03-03T17:11:01.702681Z",
     "iopub.status.idle": "2025-03-03T17:11:01.709306Z",
     "shell.execute_reply": "2025-03-03T17:11:01.708102Z"
    },
    "papermill": {
     "duration": 0.018157,
     "end_time": "2025-03-03T17:11:01.711156",
     "exception": false,
     "start_time": "2025-03-03T17:11:01.692999",
     "status": "completed"
    },
    "tags": []
   },
   "outputs": [
    {
     "data": {
      "text/plain": [
       "(array([[0, 0, 0, ..., 0, 0, 0],\n",
       "        [0, 0, 0, ..., 0, 0, 0],\n",
       "        [0, 0, 0, ..., 0, 0, 0],\n",
       "        ...,\n",
       "        [0, 0, 0, ..., 0, 0, 0],\n",
       "        [0, 0, 0, ..., 0, 0, 0],\n",
       "        [0, 0, 0, ..., 0, 0, 0]], shape=(4457, 2500)),\n",
       " 1114    0\n",
       " 3589    0\n",
       " 3095    0\n",
       " 1012    0\n",
       " 3320    0\n",
       "        ..\n",
       " 4931    0\n",
       " 3264    1\n",
       " 1653    0\n",
       " 2607    0\n",
       " 2732    0\n",
       " Name: label, Length: 4457, dtype: int64)"
      ]
     },
     "execution_count": 89,
     "metadata": {},
     "output_type": "execute_result"
    }
   ],
   "source": [
    "X_train,y_train"
   ]
  },
  {
   "cell_type": "markdown",
   "id": "db897421",
   "metadata": {
    "papermill": {
     "duration": 0.008557,
     "end_time": "2025-03-03T17:11:01.728777",
     "exception": false,
     "start_time": "2025-03-03T17:11:01.720220",
     "status": "completed"
    },
    "tags": []
   },
   "source": [
    "### Model building"
   ]
  },
  {
   "cell_type": "code",
   "execution_count": 90,
   "id": "f6729830",
   "metadata": {
    "execution": {
     "iopub.execute_input": "2025-03-03T17:11:01.748497Z",
     "iopub.status.busy": "2025-03-03T17:11:01.748065Z",
     "iopub.status.idle": "2025-03-03T17:11:01.837622Z",
     "shell.execute_reply": "2025-03-03T17:11:01.836501Z"
    },
    "papermill": {
     "duration": 0.10223,
     "end_time": "2025-03-03T17:11:01.839880",
     "exception": false,
     "start_time": "2025-03-03T17:11:01.737650",
     "status": "completed"
    },
    "tags": []
   },
   "outputs": [],
   "source": [
    "from sklearn.naive_bayes import MultinomialNB\n",
    "spam_detect_model= MultinomialNB().fit(X_train,y_train)"
   ]
  },
  {
   "cell_type": "markdown",
   "id": "7e735e71",
   "metadata": {
    "papermill": {
     "duration": 0.008619,
     "end_time": "2025-03-03T17:11:01.857497",
     "exception": false,
     "start_time": "2025-03-03T17:11:01.848878",
     "status": "completed"
    },
    "tags": []
   },
   "source": [
    "### Prediction"
   ]
  },
  {
   "cell_type": "code",
   "execution_count": 91,
   "id": "a075b8f0",
   "metadata": {
    "execution": {
     "iopub.execute_input": "2025-03-03T17:11:01.877698Z",
     "iopub.status.busy": "2025-03-03T17:11:01.877311Z",
     "iopub.status.idle": "2025-03-03T17:11:01.905540Z",
     "shell.execute_reply": "2025-03-03T17:11:01.904569Z"
    },
    "papermill": {
     "duration": 0.040953,
     "end_time": "2025-03-03T17:11:01.907476",
     "exception": false,
     "start_time": "2025-03-03T17:11:01.866523",
     "status": "completed"
    },
    "tags": []
   },
   "outputs": [],
   "source": [
    "y_pred= spam_detect_model.predict(X_test)"
   ]
  },
  {
   "cell_type": "markdown",
   "id": "480a8c1e",
   "metadata": {
    "papermill": {
     "duration": 0.008742,
     "end_time": "2025-03-03T17:11:01.925678",
     "exception": false,
     "start_time": "2025-03-03T17:11:01.916936",
     "status": "completed"
    },
    "tags": []
   },
   "source": [
    "### Model evaluation"
   ]
  },
  {
   "cell_type": "code",
   "execution_count": 92,
   "id": "bb12dc68",
   "metadata": {
    "execution": {
     "iopub.execute_input": "2025-03-03T17:11:01.944826Z",
     "iopub.status.busy": "2025-03-03T17:11:01.944438Z",
     "iopub.status.idle": "2025-03-03T17:11:01.948805Z",
     "shell.execute_reply": "2025-03-03T17:11:01.947699Z"
    },
    "papermill": {
     "duration": 0.015775,
     "end_time": "2025-03-03T17:11:01.950563",
     "exception": false,
     "start_time": "2025-03-03T17:11:01.934788",
     "status": "completed"
    },
    "tags": []
   },
   "outputs": [],
   "source": [
    "from sklearn.metrics import accuracy_score,classification_report"
   ]
  },
  {
   "cell_type": "code",
   "execution_count": 93,
   "id": "c178d3fb",
   "metadata": {
    "execution": {
     "iopub.execute_input": "2025-03-03T17:11:01.969966Z",
     "iopub.status.busy": "2025-03-03T17:11:01.969552Z",
     "iopub.status.idle": "2025-03-03T17:11:01.976539Z",
     "shell.execute_reply": "2025-03-03T17:11:01.975378Z"
    },
    "papermill": {
     "duration": 0.018725,
     "end_time": "2025-03-03T17:11:01.978370",
     "exception": false,
     "start_time": "2025-03-03T17:11:01.959645",
     "status": "completed"
    },
    "tags": []
   },
   "outputs": [
    {
     "name": "stdout",
     "output_type": "stream",
     "text": [
      "0.9641255605381166\n"
     ]
    }
   ],
   "source": [
    "score= accuracy_score(y_test,y_pred)\n",
    "print(score)"
   ]
  },
  {
   "cell_type": "code",
   "execution_count": 94,
   "id": "a29f8545",
   "metadata": {
    "execution": {
     "iopub.execute_input": "2025-03-03T17:11:01.997835Z",
     "iopub.status.busy": "2025-03-03T17:11:01.997311Z",
     "iopub.status.idle": "2025-03-03T17:11:02.013940Z",
     "shell.execute_reply": "2025-03-03T17:11:02.012512Z"
    },
    "papermill": {
     "duration": 0.02842,
     "end_time": "2025-03-03T17:11:02.015907",
     "exception": false,
     "start_time": "2025-03-03T17:11:01.987487",
     "status": "completed"
    },
    "tags": []
   },
   "outputs": [
    {
     "name": "stdout",
     "output_type": "stream",
     "text": [
      "              precision    recall  f1-score   support\n",
      "\n",
      "           0       1.00      0.96      0.98       987\n",
      "           1       0.77      0.99      0.86       128\n",
      "\n",
      "    accuracy                           0.96      1115\n",
      "   macro avg       0.88      0.98      0.92      1115\n",
      "weighted avg       0.97      0.96      0.97      1115\n",
      "\n"
     ]
    }
   ],
   "source": [
    "print(classification_report(y_pred,y_test))"
   ]
  },
  {
   "cell_type": "markdown",
   "id": "9d87e1b1",
   "metadata": {
    "papermill": {
     "duration": 0.009116,
     "end_time": "2025-03-03T17:11:02.034261",
     "exception": false,
     "start_time": "2025-03-03T17:11:02.025145",
     "status": "completed"
    },
    "tags": []
   },
   "source": [
    "### TF/IDF model"
   ]
  },
  {
   "cell_type": "code",
   "execution_count": 95,
   "id": "cfb4822b",
   "metadata": {
    "execution": {
     "iopub.execute_input": "2025-03-03T17:11:02.053869Z",
     "iopub.status.busy": "2025-03-03T17:11:02.053452Z",
     "iopub.status.idle": "2025-03-03T17:11:02.383342Z",
     "shell.execute_reply": "2025-03-03T17:11:02.382189Z"
    },
    "papermill": {
     "duration": 0.342082,
     "end_time": "2025-03-03T17:11:02.385576",
     "exception": false,
     "start_time": "2025-03-03T17:11:02.043494",
     "status": "completed"
    },
    "tags": []
   },
   "outputs": [],
   "source": [
    "from sklearn.feature_extraction.text import TfidfVectorizer\n",
    "tv=TfidfVectorizer(max_features=2500,ngram_range=(1,2))\n",
    "X=tv.fit_transform(corpus).toarray()"
   ]
  },
  {
   "cell_type": "markdown",
   "id": "7f836e89",
   "metadata": {
    "papermill": {
     "duration": 0.009109,
     "end_time": "2025-03-03T17:11:02.404451",
     "exception": false,
     "start_time": "2025-03-03T17:11:02.395342",
     "status": "completed"
    },
    "tags": []
   },
   "source": [
    "### Train,Test,Split"
   ]
  },
  {
   "cell_type": "code",
   "execution_count": 96,
   "id": "532d0771",
   "metadata": {
    "execution": {
     "iopub.execute_input": "2025-03-03T17:11:02.425119Z",
     "iopub.status.busy": "2025-03-03T17:11:02.424688Z",
     "iopub.status.idle": "2025-03-03T17:11:02.429173Z",
     "shell.execute_reply": "2025-03-03T17:11:02.427924Z"
    },
    "papermill": {
     "duration": 0.017997,
     "end_time": "2025-03-03T17:11:02.431447",
     "exception": false,
     "start_time": "2025-03-03T17:11:02.413450",
     "status": "completed"
    },
    "tags": []
   },
   "outputs": [],
   "source": [
    "from sklearn.model_selection import train_test_split"
   ]
  },
  {
   "cell_type": "code",
   "execution_count": 97,
   "id": "d220efea",
   "metadata": {
    "execution": {
     "iopub.execute_input": "2025-03-03T17:11:02.451223Z",
     "iopub.status.busy": "2025-03-03T17:11:02.450773Z",
     "iopub.status.idle": "2025-03-03T17:11:02.519623Z",
     "shell.execute_reply": "2025-03-03T17:11:02.518501Z"
    },
    "papermill": {
     "duration": 0.080953,
     "end_time": "2025-03-03T17:11:02.521648",
     "exception": false,
     "start_time": "2025-03-03T17:11:02.440695",
     "status": "completed"
    },
    "tags": []
   },
   "outputs": [],
   "source": [
    "X_train,X_test,y_train,y_test= train_test_split(X,y,test_size=0.20,random_state=0)"
   ]
  },
  {
   "cell_type": "code",
   "execution_count": 98,
   "id": "6acb9629",
   "metadata": {
    "execution": {
     "iopub.execute_input": "2025-03-03T17:11:02.541228Z",
     "iopub.status.busy": "2025-03-03T17:11:02.540815Z",
     "iopub.status.idle": "2025-03-03T17:11:02.578679Z",
     "shell.execute_reply": "2025-03-03T17:11:02.577443Z"
    },
    "papermill": {
     "duration": 0.049909,
     "end_time": "2025-03-03T17:11:02.580913",
     "exception": false,
     "start_time": "2025-03-03T17:11:02.531004",
     "status": "completed"
    },
    "tags": []
   },
   "outputs": [],
   "source": [
    "from sklearn.naive_bayes import MultinomialNB\n",
    "spam_detect_model= MultinomialNB().fit(X_train,y_train)"
   ]
  },
  {
   "cell_type": "code",
   "execution_count": 99,
   "id": "139dd890",
   "metadata": {
    "execution": {
     "iopub.execute_input": "2025-03-03T17:11:02.601760Z",
     "iopub.status.busy": "2025-03-03T17:11:02.601381Z",
     "iopub.status.idle": "2025-03-03T17:11:02.611439Z",
     "shell.execute_reply": "2025-03-03T17:11:02.610428Z"
    },
    "papermill": {
     "duration": 0.023495,
     "end_time": "2025-03-03T17:11:02.613698",
     "exception": false,
     "start_time": "2025-03-03T17:11:02.590203",
     "status": "completed"
    },
    "tags": []
   },
   "outputs": [],
   "source": [
    "#prediction\n",
    "y_pred=spam_detect_model.predict(X_test)"
   ]
  },
  {
   "cell_type": "code",
   "execution_count": 100,
   "id": "b4eb859c",
   "metadata": {
    "execution": {
     "iopub.execute_input": "2025-03-03T17:11:02.633445Z",
     "iopub.status.busy": "2025-03-03T17:11:02.633075Z",
     "iopub.status.idle": "2025-03-03T17:11:02.637375Z",
     "shell.execute_reply": "2025-03-03T17:11:02.636314Z"
    },
    "papermill": {
     "duration": 0.016117,
     "end_time": "2025-03-03T17:11:02.639176",
     "exception": false,
     "start_time": "2025-03-03T17:11:02.623059",
     "status": "completed"
    },
    "tags": []
   },
   "outputs": [],
   "source": [
    "from sklearn.metrics import accuracy_score,classification_report"
   ]
  },
  {
   "cell_type": "code",
   "execution_count": 101,
   "id": "9fadacb1",
   "metadata": {
    "execution": {
     "iopub.execute_input": "2025-03-03T17:11:02.658604Z",
     "iopub.status.busy": "2025-03-03T17:11:02.658220Z",
     "iopub.status.idle": "2025-03-03T17:11:02.665161Z",
     "shell.execute_reply": "2025-03-03T17:11:02.663976Z"
    },
    "papermill": {
     "duration": 0.018854,
     "end_time": "2025-03-03T17:11:02.667169",
     "exception": false,
     "start_time": "2025-03-03T17:11:02.648315",
     "status": "completed"
    },
    "tags": []
   },
   "outputs": [
    {
     "name": "stdout",
     "output_type": "stream",
     "text": [
      "0.9704035874439462\n"
     ]
    }
   ],
   "source": [
    "score= accuracy_score(y_test,y_pred)\n",
    "print(score)"
   ]
  },
  {
   "cell_type": "code",
   "execution_count": 102,
   "id": "ea87271b",
   "metadata": {
    "execution": {
     "iopub.execute_input": "2025-03-03T17:11:02.689784Z",
     "iopub.status.busy": "2025-03-03T17:11:02.689356Z",
     "iopub.status.idle": "2025-03-03T17:11:02.704399Z",
     "shell.execute_reply": "2025-03-03T17:11:02.703035Z"
    },
    "papermill": {
     "duration": 0.029432,
     "end_time": "2025-03-03T17:11:02.706199",
     "exception": false,
     "start_time": "2025-03-03T17:11:02.676767",
     "status": "completed"
    },
    "tags": []
   },
   "outputs": [
    {
     "name": "stdout",
     "output_type": "stream",
     "text": [
      "              precision    recall  f1-score   support\n",
      "\n",
      "           0       1.00      0.97      0.98       980\n",
      "           1       0.81      0.99      0.89       135\n",
      "\n",
      "    accuracy                           0.97      1115\n",
      "   macro avg       0.90      0.98      0.94      1115\n",
      "weighted avg       0.98      0.97      0.97      1115\n",
      "\n"
     ]
    }
   ],
   "source": [
    "print(classification_report(y_pred,y_test))"
   ]
  },
  {
   "cell_type": "markdown",
   "id": "5b8989b1",
   "metadata": {
    "papermill": {
     "duration": 0.009021,
     "end_time": "2025-03-03T17:11:02.724571",
     "exception": false,
     "start_time": "2025-03-03T17:11:02.715550",
     "status": "completed"
    },
    "tags": []
   },
   "source": [
    "### RandomForest"
   ]
  },
  {
   "cell_type": "code",
   "execution_count": 103,
   "id": "699f7ffc",
   "metadata": {
    "execution": {
     "iopub.execute_input": "2025-03-03T17:11:02.745494Z",
     "iopub.status.busy": "2025-03-03T17:11:02.745136Z",
     "iopub.status.idle": "2025-03-03T17:11:03.052550Z",
     "shell.execute_reply": "2025-03-03T17:11:03.051552Z"
    },
    "papermill": {
     "duration": 0.32044,
     "end_time": "2025-03-03T17:11:03.054749",
     "exception": false,
     "start_time": "2025-03-03T17:11:02.734309",
     "status": "completed"
    },
    "tags": []
   },
   "outputs": [],
   "source": [
    "from sklearn.ensemble import RandomForestClassifier\n",
    "classifier=RandomForestClassifier()"
   ]
  },
  {
   "cell_type": "code",
   "execution_count": 104,
   "id": "127937c4",
   "metadata": {
    "execution": {
     "iopub.execute_input": "2025-03-03T17:11:03.075112Z",
     "iopub.status.busy": "2025-03-03T17:11:03.074746Z",
     "iopub.status.idle": "2025-03-03T17:11:13.990119Z",
     "shell.execute_reply": "2025-03-03T17:11:13.989062Z"
    },
    "papermill": {
     "duration": 10.927445,
     "end_time": "2025-03-03T17:11:13.991837",
     "exception": false,
     "start_time": "2025-03-03T17:11:03.064392",
     "status": "completed"
    },
    "tags": []
   },
   "outputs": [
    {
     "data": {
      "text/html": [
       "<style>#sk-container-id-3 {\n",
       "  /* Definition of color scheme common for light and dark mode */\n",
       "  --sklearn-color-text: #000;\n",
       "  --sklearn-color-text-muted: #666;\n",
       "  --sklearn-color-line: gray;\n",
       "  /* Definition of color scheme for unfitted estimators */\n",
       "  --sklearn-color-unfitted-level-0: #fff5e6;\n",
       "  --sklearn-color-unfitted-level-1: #f6e4d2;\n",
       "  --sklearn-color-unfitted-level-2: #ffe0b3;\n",
       "  --sklearn-color-unfitted-level-3: chocolate;\n",
       "  /* Definition of color scheme for fitted estimators */\n",
       "  --sklearn-color-fitted-level-0: #f0f8ff;\n",
       "  --sklearn-color-fitted-level-1: #d4ebff;\n",
       "  --sklearn-color-fitted-level-2: #b3dbfd;\n",
       "  --sklearn-color-fitted-level-3: cornflowerblue;\n",
       "\n",
       "  /* Specific color for light theme */\n",
       "  --sklearn-color-text-on-default-background: var(--sg-text-color, var(--theme-code-foreground, var(--jp-content-font-color1, black)));\n",
       "  --sklearn-color-background: var(--sg-background-color, var(--theme-background, var(--jp-layout-color0, white)));\n",
       "  --sklearn-color-border-box: var(--sg-text-color, var(--theme-code-foreground, var(--jp-content-font-color1, black)));\n",
       "  --sklearn-color-icon: #696969;\n",
       "\n",
       "  @media (prefers-color-scheme: dark) {\n",
       "    /* Redefinition of color scheme for dark theme */\n",
       "    --sklearn-color-text-on-default-background: var(--sg-text-color, var(--theme-code-foreground, var(--jp-content-font-color1, white)));\n",
       "    --sklearn-color-background: var(--sg-background-color, var(--theme-background, var(--jp-layout-color0, #111)));\n",
       "    --sklearn-color-border-box: var(--sg-text-color, var(--theme-code-foreground, var(--jp-content-font-color1, white)));\n",
       "    --sklearn-color-icon: #878787;\n",
       "  }\n",
       "}\n",
       "\n",
       "#sk-container-id-3 {\n",
       "  color: var(--sklearn-color-text);\n",
       "}\n",
       "\n",
       "#sk-container-id-3 pre {\n",
       "  padding: 0;\n",
       "}\n",
       "\n",
       "#sk-container-id-3 input.sk-hidden--visually {\n",
       "  border: 0;\n",
       "  clip: rect(1px 1px 1px 1px);\n",
       "  clip: rect(1px, 1px, 1px, 1px);\n",
       "  height: 1px;\n",
       "  margin: -1px;\n",
       "  overflow: hidden;\n",
       "  padding: 0;\n",
       "  position: absolute;\n",
       "  width: 1px;\n",
       "}\n",
       "\n",
       "#sk-container-id-3 div.sk-dashed-wrapped {\n",
       "  border: 1px dashed var(--sklearn-color-line);\n",
       "  margin: 0 0.4em 0.5em 0.4em;\n",
       "  box-sizing: border-box;\n",
       "  padding-bottom: 0.4em;\n",
       "  background-color: var(--sklearn-color-background);\n",
       "}\n",
       "\n",
       "#sk-container-id-3 div.sk-container {\n",
       "  /* jupyter's `normalize.less` sets `[hidden] { display: none; }`\n",
       "     but bootstrap.min.css set `[hidden] { display: none !important; }`\n",
       "     so we also need the `!important` here to be able to override the\n",
       "     default hidden behavior on the sphinx rendered scikit-learn.org.\n",
       "     See: https://github.com/scikit-learn/scikit-learn/issues/21755 */\n",
       "  display: inline-block !important;\n",
       "  position: relative;\n",
       "}\n",
       "\n",
       "#sk-container-id-3 div.sk-text-repr-fallback {\n",
       "  display: none;\n",
       "}\n",
       "\n",
       "div.sk-parallel-item,\n",
       "div.sk-serial,\n",
       "div.sk-item {\n",
       "  /* draw centered vertical line to link estimators */\n",
       "  background-image: linear-gradient(var(--sklearn-color-text-on-default-background), var(--sklearn-color-text-on-default-background));\n",
       "  background-size: 2px 100%;\n",
       "  background-repeat: no-repeat;\n",
       "  background-position: center center;\n",
       "}\n",
       "\n",
       "/* Parallel-specific style estimator block */\n",
       "\n",
       "#sk-container-id-3 div.sk-parallel-item::after {\n",
       "  content: \"\";\n",
       "  width: 100%;\n",
       "  border-bottom: 2px solid var(--sklearn-color-text-on-default-background);\n",
       "  flex-grow: 1;\n",
       "}\n",
       "\n",
       "#sk-container-id-3 div.sk-parallel {\n",
       "  display: flex;\n",
       "  align-items: stretch;\n",
       "  justify-content: center;\n",
       "  background-color: var(--sklearn-color-background);\n",
       "  position: relative;\n",
       "}\n",
       "\n",
       "#sk-container-id-3 div.sk-parallel-item {\n",
       "  display: flex;\n",
       "  flex-direction: column;\n",
       "}\n",
       "\n",
       "#sk-container-id-3 div.sk-parallel-item:first-child::after {\n",
       "  align-self: flex-end;\n",
       "  width: 50%;\n",
       "}\n",
       "\n",
       "#sk-container-id-3 div.sk-parallel-item:last-child::after {\n",
       "  align-self: flex-start;\n",
       "  width: 50%;\n",
       "}\n",
       "\n",
       "#sk-container-id-3 div.sk-parallel-item:only-child::after {\n",
       "  width: 0;\n",
       "}\n",
       "\n",
       "/* Serial-specific style estimator block */\n",
       "\n",
       "#sk-container-id-3 div.sk-serial {\n",
       "  display: flex;\n",
       "  flex-direction: column;\n",
       "  align-items: center;\n",
       "  background-color: var(--sklearn-color-background);\n",
       "  padding-right: 1em;\n",
       "  padding-left: 1em;\n",
       "}\n",
       "\n",
       "\n",
       "/* Toggleable style: style used for estimator/Pipeline/ColumnTransformer box that is\n",
       "clickable and can be expanded/collapsed.\n",
       "- Pipeline and ColumnTransformer use this feature and define the default style\n",
       "- Estimators will overwrite some part of the style using the `sk-estimator` class\n",
       "*/\n",
       "\n",
       "/* Pipeline and ColumnTransformer style (default) */\n",
       "\n",
       "#sk-container-id-3 div.sk-toggleable {\n",
       "  /* Default theme specific background. It is overwritten whether we have a\n",
       "  specific estimator or a Pipeline/ColumnTransformer */\n",
       "  background-color: var(--sklearn-color-background);\n",
       "}\n",
       "\n",
       "/* Toggleable label */\n",
       "#sk-container-id-3 label.sk-toggleable__label {\n",
       "  cursor: pointer;\n",
       "  display: flex;\n",
       "  width: 100%;\n",
       "  margin-bottom: 0;\n",
       "  padding: 0.5em;\n",
       "  box-sizing: border-box;\n",
       "  text-align: center;\n",
       "  align-items: start;\n",
       "  justify-content: space-between;\n",
       "  gap: 0.5em;\n",
       "}\n",
       "\n",
       "#sk-container-id-3 label.sk-toggleable__label .caption {\n",
       "  font-size: 0.6rem;\n",
       "  font-weight: lighter;\n",
       "  color: var(--sklearn-color-text-muted);\n",
       "}\n",
       "\n",
       "#sk-container-id-3 label.sk-toggleable__label-arrow:before {\n",
       "  /* Arrow on the left of the label */\n",
       "  content: \"▸\";\n",
       "  float: left;\n",
       "  margin-right: 0.25em;\n",
       "  color: var(--sklearn-color-icon);\n",
       "}\n",
       "\n",
       "#sk-container-id-3 label.sk-toggleable__label-arrow:hover:before {\n",
       "  color: var(--sklearn-color-text);\n",
       "}\n",
       "\n",
       "/* Toggleable content - dropdown */\n",
       "\n",
       "#sk-container-id-3 div.sk-toggleable__content {\n",
       "  max-height: 0;\n",
       "  max-width: 0;\n",
       "  overflow: hidden;\n",
       "  text-align: left;\n",
       "  /* unfitted */\n",
       "  background-color: var(--sklearn-color-unfitted-level-0);\n",
       "}\n",
       "\n",
       "#sk-container-id-3 div.sk-toggleable__content.fitted {\n",
       "  /* fitted */\n",
       "  background-color: var(--sklearn-color-fitted-level-0);\n",
       "}\n",
       "\n",
       "#sk-container-id-3 div.sk-toggleable__content pre {\n",
       "  margin: 0.2em;\n",
       "  border-radius: 0.25em;\n",
       "  color: var(--sklearn-color-text);\n",
       "  /* unfitted */\n",
       "  background-color: var(--sklearn-color-unfitted-level-0);\n",
       "}\n",
       "\n",
       "#sk-container-id-3 div.sk-toggleable__content.fitted pre {\n",
       "  /* unfitted */\n",
       "  background-color: var(--sklearn-color-fitted-level-0);\n",
       "}\n",
       "\n",
       "#sk-container-id-3 input.sk-toggleable__control:checked~div.sk-toggleable__content {\n",
       "  /* Expand drop-down */\n",
       "  max-height: 200px;\n",
       "  max-width: 100%;\n",
       "  overflow: auto;\n",
       "}\n",
       "\n",
       "#sk-container-id-3 input.sk-toggleable__control:checked~label.sk-toggleable__label-arrow:before {\n",
       "  content: \"▾\";\n",
       "}\n",
       "\n",
       "/* Pipeline/ColumnTransformer-specific style */\n",
       "\n",
       "#sk-container-id-3 div.sk-label input.sk-toggleable__control:checked~label.sk-toggleable__label {\n",
       "  color: var(--sklearn-color-text);\n",
       "  background-color: var(--sklearn-color-unfitted-level-2);\n",
       "}\n",
       "\n",
       "#sk-container-id-3 div.sk-label.fitted input.sk-toggleable__control:checked~label.sk-toggleable__label {\n",
       "  background-color: var(--sklearn-color-fitted-level-2);\n",
       "}\n",
       "\n",
       "/* Estimator-specific style */\n",
       "\n",
       "/* Colorize estimator box */\n",
       "#sk-container-id-3 div.sk-estimator input.sk-toggleable__control:checked~label.sk-toggleable__label {\n",
       "  /* unfitted */\n",
       "  background-color: var(--sklearn-color-unfitted-level-2);\n",
       "}\n",
       "\n",
       "#sk-container-id-3 div.sk-estimator.fitted input.sk-toggleable__control:checked~label.sk-toggleable__label {\n",
       "  /* fitted */\n",
       "  background-color: var(--sklearn-color-fitted-level-2);\n",
       "}\n",
       "\n",
       "#sk-container-id-3 div.sk-label label.sk-toggleable__label,\n",
       "#sk-container-id-3 div.sk-label label {\n",
       "  /* The background is the default theme color */\n",
       "  color: var(--sklearn-color-text-on-default-background);\n",
       "}\n",
       "\n",
       "/* On hover, darken the color of the background */\n",
       "#sk-container-id-3 div.sk-label:hover label.sk-toggleable__label {\n",
       "  color: var(--sklearn-color-text);\n",
       "  background-color: var(--sklearn-color-unfitted-level-2);\n",
       "}\n",
       "\n",
       "/* Label box, darken color on hover, fitted */\n",
       "#sk-container-id-3 div.sk-label.fitted:hover label.sk-toggleable__label.fitted {\n",
       "  color: var(--sklearn-color-text);\n",
       "  background-color: var(--sklearn-color-fitted-level-2);\n",
       "}\n",
       "\n",
       "/* Estimator label */\n",
       "\n",
       "#sk-container-id-3 div.sk-label label {\n",
       "  font-family: monospace;\n",
       "  font-weight: bold;\n",
       "  display: inline-block;\n",
       "  line-height: 1.2em;\n",
       "}\n",
       "\n",
       "#sk-container-id-3 div.sk-label-container {\n",
       "  text-align: center;\n",
       "}\n",
       "\n",
       "/* Estimator-specific */\n",
       "#sk-container-id-3 div.sk-estimator {\n",
       "  font-family: monospace;\n",
       "  border: 1px dotted var(--sklearn-color-border-box);\n",
       "  border-radius: 0.25em;\n",
       "  box-sizing: border-box;\n",
       "  margin-bottom: 0.5em;\n",
       "  /* unfitted */\n",
       "  background-color: var(--sklearn-color-unfitted-level-0);\n",
       "}\n",
       "\n",
       "#sk-container-id-3 div.sk-estimator.fitted {\n",
       "  /* fitted */\n",
       "  background-color: var(--sklearn-color-fitted-level-0);\n",
       "}\n",
       "\n",
       "/* on hover */\n",
       "#sk-container-id-3 div.sk-estimator:hover {\n",
       "  /* unfitted */\n",
       "  background-color: var(--sklearn-color-unfitted-level-2);\n",
       "}\n",
       "\n",
       "#sk-container-id-3 div.sk-estimator.fitted:hover {\n",
       "  /* fitted */\n",
       "  background-color: var(--sklearn-color-fitted-level-2);\n",
       "}\n",
       "\n",
       "/* Specification for estimator info (e.g. \"i\" and \"?\") */\n",
       "\n",
       "/* Common style for \"i\" and \"?\" */\n",
       "\n",
       ".sk-estimator-doc-link,\n",
       "a:link.sk-estimator-doc-link,\n",
       "a:visited.sk-estimator-doc-link {\n",
       "  float: right;\n",
       "  font-size: smaller;\n",
       "  line-height: 1em;\n",
       "  font-family: monospace;\n",
       "  background-color: var(--sklearn-color-background);\n",
       "  border-radius: 1em;\n",
       "  height: 1em;\n",
       "  width: 1em;\n",
       "  text-decoration: none !important;\n",
       "  margin-left: 0.5em;\n",
       "  text-align: center;\n",
       "  /* unfitted */\n",
       "  border: var(--sklearn-color-unfitted-level-1) 1pt solid;\n",
       "  color: var(--sklearn-color-unfitted-level-1);\n",
       "}\n",
       "\n",
       ".sk-estimator-doc-link.fitted,\n",
       "a:link.sk-estimator-doc-link.fitted,\n",
       "a:visited.sk-estimator-doc-link.fitted {\n",
       "  /* fitted */\n",
       "  border: var(--sklearn-color-fitted-level-1) 1pt solid;\n",
       "  color: var(--sklearn-color-fitted-level-1);\n",
       "}\n",
       "\n",
       "/* On hover */\n",
       "div.sk-estimator:hover .sk-estimator-doc-link:hover,\n",
       ".sk-estimator-doc-link:hover,\n",
       "div.sk-label-container:hover .sk-estimator-doc-link:hover,\n",
       ".sk-estimator-doc-link:hover {\n",
       "  /* unfitted */\n",
       "  background-color: var(--sklearn-color-unfitted-level-3);\n",
       "  color: var(--sklearn-color-background);\n",
       "  text-decoration: none;\n",
       "}\n",
       "\n",
       "div.sk-estimator.fitted:hover .sk-estimator-doc-link.fitted:hover,\n",
       ".sk-estimator-doc-link.fitted:hover,\n",
       "div.sk-label-container:hover .sk-estimator-doc-link.fitted:hover,\n",
       ".sk-estimator-doc-link.fitted:hover {\n",
       "  /* fitted */\n",
       "  background-color: var(--sklearn-color-fitted-level-3);\n",
       "  color: var(--sklearn-color-background);\n",
       "  text-decoration: none;\n",
       "}\n",
       "\n",
       "/* Span, style for the box shown on hovering the info icon */\n",
       ".sk-estimator-doc-link span {\n",
       "  display: none;\n",
       "  z-index: 9999;\n",
       "  position: relative;\n",
       "  font-weight: normal;\n",
       "  right: .2ex;\n",
       "  padding: .5ex;\n",
       "  margin: .5ex;\n",
       "  width: min-content;\n",
       "  min-width: 20ex;\n",
       "  max-width: 50ex;\n",
       "  color: var(--sklearn-color-text);\n",
       "  box-shadow: 2pt 2pt 4pt #999;\n",
       "  /* unfitted */\n",
       "  background: var(--sklearn-color-unfitted-level-0);\n",
       "  border: .5pt solid var(--sklearn-color-unfitted-level-3);\n",
       "}\n",
       "\n",
       ".sk-estimator-doc-link.fitted span {\n",
       "  /* fitted */\n",
       "  background: var(--sklearn-color-fitted-level-0);\n",
       "  border: var(--sklearn-color-fitted-level-3);\n",
       "}\n",
       "\n",
       ".sk-estimator-doc-link:hover span {\n",
       "  display: block;\n",
       "}\n",
       "\n",
       "/* \"?\"-specific style due to the `<a>` HTML tag */\n",
       "\n",
       "#sk-container-id-3 a.estimator_doc_link {\n",
       "  float: right;\n",
       "  font-size: 1rem;\n",
       "  line-height: 1em;\n",
       "  font-family: monospace;\n",
       "  background-color: var(--sklearn-color-background);\n",
       "  border-radius: 1rem;\n",
       "  height: 1rem;\n",
       "  width: 1rem;\n",
       "  text-decoration: none;\n",
       "  /* unfitted */\n",
       "  color: var(--sklearn-color-unfitted-level-1);\n",
       "  border: var(--sklearn-color-unfitted-level-1) 1pt solid;\n",
       "}\n",
       "\n",
       "#sk-container-id-3 a.estimator_doc_link.fitted {\n",
       "  /* fitted */\n",
       "  border: var(--sklearn-color-fitted-level-1) 1pt solid;\n",
       "  color: var(--sklearn-color-fitted-level-1);\n",
       "}\n",
       "\n",
       "/* On hover */\n",
       "#sk-container-id-3 a.estimator_doc_link:hover {\n",
       "  /* unfitted */\n",
       "  background-color: var(--sklearn-color-unfitted-level-3);\n",
       "  color: var(--sklearn-color-background);\n",
       "  text-decoration: none;\n",
       "}\n",
       "\n",
       "#sk-container-id-3 a.estimator_doc_link.fitted:hover {\n",
       "  /* fitted */\n",
       "  background-color: var(--sklearn-color-fitted-level-3);\n",
       "}\n",
       "</style><div id=\"sk-container-id-3\" class=\"sk-top-container\"><div class=\"sk-text-repr-fallback\"><pre>RandomForestClassifier()</pre><b>In a Jupyter environment, please rerun this cell to show the HTML representation or trust the notebook. <br />On GitHub, the HTML representation is unable to render, please try loading this page with nbviewer.org.</b></div><div class=\"sk-container\" hidden><div class=\"sk-item\"><div class=\"sk-estimator fitted sk-toggleable\"><input class=\"sk-toggleable__control sk-hidden--visually\" id=\"sk-estimator-id-3\" type=\"checkbox\" checked><label for=\"sk-estimator-id-3\" class=\"sk-toggleable__label fitted sk-toggleable__label-arrow\"><div><div>RandomForestClassifier</div></div><div><a class=\"sk-estimator-doc-link fitted\" rel=\"noreferrer\" target=\"_blank\" href=\"https://scikit-learn.org/1.6/modules/generated/sklearn.ensemble.RandomForestClassifier.html\">?<span>Documentation for RandomForestClassifier</span></a><span class=\"sk-estimator-doc-link fitted\">i<span>Fitted</span></span></div></label><div class=\"sk-toggleable__content fitted\"><pre>RandomForestClassifier()</pre></div> </div></div></div></div>"
      ],
      "text/plain": [
       "RandomForestClassifier()"
      ]
     },
     "execution_count": 104,
     "metadata": {},
     "output_type": "execute_result"
    }
   ],
   "source": [
    "classifier.fit(X_train,y_train)"
   ]
  },
  {
   "cell_type": "code",
   "execution_count": 105,
   "id": "110777ec",
   "metadata": {
    "execution": {
     "iopub.execute_input": "2025-03-03T17:11:14.012206Z",
     "iopub.status.busy": "2025-03-03T17:11:14.011817Z",
     "iopub.status.idle": "2025-03-03T17:11:14.102475Z",
     "shell.execute_reply": "2025-03-03T17:11:14.101335Z"
    },
    "papermill": {
     "duration": 0.102973,
     "end_time": "2025-03-03T17:11:14.104506",
     "exception": false,
     "start_time": "2025-03-03T17:11:14.001533",
     "status": "completed"
    },
    "tags": []
   },
   "outputs": [],
   "source": [
    "y_pred=classifier.predict(X_test)"
   ]
  },
  {
   "cell_type": "code",
   "execution_count": 106,
   "id": "daceac4c",
   "metadata": {
    "execution": {
     "iopub.execute_input": "2025-03-03T17:11:14.125619Z",
     "iopub.status.busy": "2025-03-03T17:11:14.125194Z",
     "iopub.status.idle": "2025-03-03T17:11:14.142553Z",
     "shell.execute_reply": "2025-03-03T17:11:14.140856Z"
    },
    "papermill": {
     "duration": 0.029927,
     "end_time": "2025-03-03T17:11:14.144543",
     "exception": false,
     "start_time": "2025-03-03T17:11:14.114616",
     "status": "completed"
    },
    "tags": []
   },
   "outputs": [
    {
     "name": "stdout",
     "output_type": "stream",
     "text": [
      "0.979372197309417\n",
      "              precision    recall  f1-score   support\n",
      "\n",
      "           0       1.00      0.98      0.99       970\n",
      "           1       0.87      0.99      0.93       145\n",
      "\n",
      "    accuracy                           0.98      1115\n",
      "   macro avg       0.93      0.99      0.96      1115\n",
      "weighted avg       0.98      0.98      0.98      1115\n",
      "\n"
     ]
    }
   ],
   "source": [
    "print(accuracy_score(y_pred,y_test))\n",
    "print(classification_report(y_pred,y_test))"
   ]
  },
  {
   "cell_type": "code",
   "execution_count": 107,
   "id": "375daa8a",
   "metadata": {
    "execution": {
     "iopub.execute_input": "2025-03-03T17:11:14.168894Z",
     "iopub.status.busy": "2025-03-03T17:11:14.168412Z",
     "iopub.status.idle": "2025-03-03T17:11:19.904547Z",
     "shell.execute_reply": "2025-03-03T17:11:19.903160Z"
    },
    "papermill": {
     "duration": 5.751489,
     "end_time": "2025-03-03T17:11:19.907262",
     "exception": false,
     "start_time": "2025-03-03T17:11:14.155773",
     "status": "completed"
    },
    "tags": []
   },
   "outputs": [
    {
     "name": "stdout",
     "output_type": "stream",
     "text": [
      "Requirement already satisfied: joblib in c:\\users\\expertcomputer\\appdata\\local\\programs\\python\\python313\\lib\\site-packages (1.4.2)\n"
     ]
    },
    {
     "name": "stderr",
     "output_type": "stream",
     "text": [
      "\n",
      "[notice] A new release of pip is available: 24.3.1 -> 25.0.1\n",
      "[notice] To update, run: python.exe -m pip install --upgrade pip\n"
     ]
    }
   ],
   "source": [
    "!pip install joblib"
   ]
  },
  {
   "cell_type": "code",
   "execution_count": 108,
   "id": "e039d346",
   "metadata": {
    "execution": {
     "iopub.execute_input": "2025-03-03T17:11:19.929290Z",
     "iopub.status.busy": "2025-03-03T17:11:19.928864Z",
     "iopub.status.idle": "2025-03-03T17:11:19.933913Z",
     "shell.execute_reply": "2025-03-03T17:11:19.932546Z"
    },
    "papermill": {
     "duration": 0.018538,
     "end_time": "2025-03-03T17:11:19.936065",
     "exception": false,
     "start_time": "2025-03-03T17:11:19.917527",
     "status": "completed"
    },
    "tags": []
   },
   "outputs": [],
   "source": [
    "import joblib"
   ]
  },
  {
   "cell_type": "code",
   "execution_count": 111,
   "id": "fd29fa02",
   "metadata": {
    "execution": {
     "iopub.execute_input": "2025-03-03T17:11:19.956644Z",
     "iopub.status.busy": "2025-03-03T17:11:19.956273Z",
     "iopub.status.idle": "2025-03-03T17:11:20.018207Z",
     "shell.execute_reply": "2025-03-03T17:11:20.017089Z"
    },
    "papermill": {
     "duration": 0.074223,
     "end_time": "2025-03-03T17:11:20.019993",
     "exception": false,
     "start_time": "2025-03-03T17:11:19.945770",
     "status": "completed"
    },
    "tags": []
   },
   "outputs": [
    {
     "data": {
      "text/plain": [
       "['vectorizer.pkl']"
      ]
     },
     "execution_count": 111,
     "metadata": {},
     "output_type": "execute_result"
    }
   ],
   "source": [
    "joblib.dump(classifier,\"clasi_model.pkl\")\n",
    "joblib.dump(encoder,\"label_encoder.pkl\")\n",
    "joblib.dump(tv, \"vectorizer.pkl\") "
   ]
  },
  {
   "cell_type": "code",
   "execution_count": 110,
   "id": "f1d88eb1",
   "metadata": {
    "execution": {
     "iopub.execute_input": "2025-03-03T17:11:20.042269Z",
     "iopub.status.busy": "2025-03-03T17:11:20.041862Z",
     "iopub.status.idle": "2025-03-03T17:11:26.413606Z",
     "shell.execute_reply": "2025-03-03T17:11:26.412213Z"
    },
    "papermill": {
     "duration": 6.38522,
     "end_time": "2025-03-03T17:11:26.415826",
     "exception": false,
     "start_time": "2025-03-03T17:11:20.030606",
     "status": "completed"
    },
    "tags": []
   },
   "outputs": [
    {
     "name": "stdout",
     "output_type": "stream",
     "text": [
      "Requirement already satisfied: streamlit in c:\\users\\expertcomputer\\appdata\\local\\programs\\python\\python313\\lib\\site-packages (1.42.2)\n",
      "Requirement already satisfied: altair<6,>=4.0 in c:\\users\\expertcomputer\\appdata\\local\\programs\\python\\python313\\lib\\site-packages (from streamlit) (5.5.0)\n",
      "Requirement already satisfied: blinker<2,>=1.0.0 in c:\\users\\expertcomputer\\appdata\\local\\programs\\python\\python313\\lib\\site-packages (from streamlit) (1.9.0)\n",
      "Requirement already satisfied: cachetools<6,>=4.0 in c:\\users\\expertcomputer\\appdata\\local\\programs\\python\\python313\\lib\\site-packages (from streamlit) (5.5.2)\n",
      "Requirement already satisfied: click<9,>=7.0 in c:\\users\\expertcomputer\\appdata\\local\\programs\\python\\python313\\lib\\site-packages (from streamlit) (8.1.7)\n",
      "Requirement already satisfied: numpy<3,>=1.23 in c:\\users\\expertcomputer\\appdata\\local\\programs\\python\\python313\\lib\\site-packages (from streamlit) (2.2.0)\n",
      "Requirement already satisfied: packaging<25,>=20 in c:\\users\\expertcomputer\\appdata\\roaming\\python\\python313\\site-packages (from streamlit) (24.2)\n",
      "Requirement already satisfied: pandas<3,>=1.4.0 in c:\\users\\expertcomputer\\appdata\\local\\programs\\python\\python313\\lib\\site-packages (from streamlit) (2.2.3)\n",
      "Requirement already satisfied: pillow<12,>=7.1.0 in c:\\users\\expertcomputer\\appdata\\local\\programs\\python\\python313\\lib\\site-packages (from streamlit) (11.0.0)\n",
      "Requirement already satisfied: protobuf<6,>=3.20 in c:\\users\\expertcomputer\\appdata\\local\\programs\\python\\python313\\lib\\site-packages (from streamlit) (5.29.3)\n",
      "Requirement already satisfied: pyarrow>=7.0 in c:\\users\\expertcomputer\\appdata\\local\\programs\\python\\python313\\lib\\site-packages (from streamlit) (19.0.1)\n",
      "Requirement already satisfied: requests<3,>=2.27 in c:\\users\\expertcomputer\\appdata\\local\\programs\\python\\python313\\lib\\site-packages (from streamlit) (2.32.3)\n",
      "Requirement already satisfied: rich<14,>=10.14.0 in c:\\users\\expertcomputer\\appdata\\local\\programs\\python\\python313\\lib\\site-packages (from streamlit) (13.9.4)\n",
      "Requirement already satisfied: tenacity<10,>=8.1.0 in c:\\users\\expertcomputer\\appdata\\local\\programs\\python\\python313\\lib\\site-packages (from streamlit) (9.0.0)\n",
      "Requirement already satisfied: toml<2,>=0.10.1 in c:\\users\\expertcomputer\\appdata\\local\\programs\\python\\python313\\lib\\site-packages (from streamlit) (0.10.2)\n",
      "Requirement already satisfied: typing-extensions<5,>=4.4.0 in c:\\users\\expertcomputer\\appdata\\local\\programs\\python\\python313\\lib\\site-packages (from streamlit) (4.12.2)\n",
      "Requirement already satisfied: watchdog<7,>=2.1.5 in c:\\users\\expertcomputer\\appdata\\local\\programs\\python\\python313\\lib\\site-packages (from streamlit) (6.0.0)\n",
      "Requirement already satisfied: gitpython!=3.1.19,<4,>=3.0.7 in c:\\users\\expertcomputer\\appdata\\local\\programs\\python\\python313\\lib\\site-packages (from streamlit) (3.1.44)\n",
      "Requirement already satisfied: pydeck<1,>=0.8.0b4 in c:\\users\\expertcomputer\\appdata\\local\\programs\\python\\python313\\lib\\site-packages (from streamlit) (0.9.1)\n",
      "Requirement already satisfied: tornado<7,>=6.0.3 in c:\\users\\expertcomputer\\appdata\\roaming\\python\\python313\\site-packages (from streamlit) (6.4.2)\n",
      "Requirement already satisfied: jinja2 in c:\\users\\expertcomputer\\appdata\\local\\programs\\python\\python313\\lib\\site-packages (from altair<6,>=4.0->streamlit) (3.1.5)\n",
      "Requirement already satisfied: jsonschema>=3.0 in c:\\users\\expertcomputer\\appdata\\local\\programs\\python\\python313\\lib\\site-packages (from altair<6,>=4.0->streamlit) (4.23.0)\n",
      "Requirement already satisfied: narwhals>=1.14.2 in c:\\users\\expertcomputer\\appdata\\local\\programs\\python\\python313\\lib\\site-packages (from altair<6,>=4.0->streamlit) (1.29.0)\n",
      "Requirement already satisfied: colorama in c:\\users\\expertcomputer\\appdata\\local\\programs\\python\\python313\\lib\\site-packages (from click<9,>=7.0->streamlit) (0.4.6)\n",
      "Requirement already satisfied: gitdb<5,>=4.0.1 in c:\\users\\expertcomputer\\appdata\\local\\programs\\python\\python313\\lib\\site-packages (from gitpython!=3.1.19,<4,>=3.0.7->streamlit) (4.0.12)\n",
      "Requirement already satisfied: python-dateutil>=2.8.2 in c:\\users\\expertcomputer\\appdata\\local\\programs\\python\\python313\\lib\\site-packages (from pandas<3,>=1.4.0->streamlit) (2.9.0.post0)\n",
      "Requirement already satisfied: pytz>=2020.1 in c:\\users\\expertcomputer\\appdata\\local\\programs\\python\\python313\\lib\\site-packages (from pandas<3,>=1.4.0->streamlit) (2024.2)\n",
      "Requirement already satisfied: tzdata>=2022.7 in c:\\users\\expertcomputer\\appdata\\local\\programs\\python\\python313\\lib\\site-packages (from pandas<3,>=1.4.0->streamlit) (2024.2)\n",
      "Requirement already satisfied: charset-normalizer<4,>=2 in c:\\users\\expertcomputer\\appdata\\local\\programs\\python\\python313\\lib\\site-packages (from requests<3,>=2.27->streamlit) (3.4.0)\n",
      "Requirement already satisfied: idna<4,>=2.5 in c:\\users\\expertcomputer\\appdata\\local\\programs\\python\\python313\\lib\\site-packages (from requests<3,>=2.27->streamlit) (3.10)\n",
      "Requirement already satisfied: urllib3<3,>=1.21.1 in c:\\users\\expertcomputer\\appdata\\local\\programs\\python\\python313\\lib\\site-packages (from requests<3,>=2.27->streamlit) (2.3.0)\n",
      "Requirement already satisfied: certifi>=2017.4.17 in c:\\users\\expertcomputer\\appdata\\local\\programs\\python\\python313\\lib\\site-packages (from requests<3,>=2.27->streamlit) (2024.12.14)\n",
      "Requirement already satisfied: markdown-it-py>=2.2.0 in c:\\users\\expertcomputer\\appdata\\local\\programs\\python\\python313\\lib\\site-packages (from rich<14,>=10.14.0->streamlit) (3.0.0)\n",
      "Requirement already satisfied: pygments<3.0.0,>=2.13.0 in c:\\users\\expertcomputer\\appdata\\roaming\\python\\python313\\site-packages (from rich<14,>=10.14.0->streamlit) (2.18.0)\n",
      "Requirement already satisfied: smmap<6,>=3.0.1 in c:\\users\\expertcomputer\\appdata\\local\\programs\\python\\python313\\lib\\site-packages (from gitdb<5,>=4.0.1->gitpython!=3.1.19,<4,>=3.0.7->streamlit) (5.0.2)\n",
      "Requirement already satisfied: MarkupSafe>=2.0 in c:\\users\\expertcomputer\\appdata\\local\\programs\\python\\python313\\lib\\site-packages (from jinja2->altair<6,>=4.0->streamlit) (3.0.2)\n",
      "Requirement already satisfied: attrs>=22.2.0 in c:\\users\\expertcomputer\\appdata\\local\\programs\\python\\python313\\lib\\site-packages (from jsonschema>=3.0->altair<6,>=4.0->streamlit) (24.3.0)\n",
      "Requirement already satisfied: jsonschema-specifications>=2023.03.6 in c:\\users\\expertcomputer\\appdata\\local\\programs\\python\\python313\\lib\\site-packages (from jsonschema>=3.0->altair<6,>=4.0->streamlit) (2024.10.1)\n",
      "Requirement already satisfied: referencing>=0.28.4 in c:\\users\\expertcomputer\\appdata\\local\\programs\\python\\python313\\lib\\site-packages (from jsonschema>=3.0->altair<6,>=4.0->streamlit) (0.35.1)\n",
      "Requirement already satisfied: rpds-py>=0.7.1 in c:\\users\\expertcomputer\\appdata\\local\\programs\\python\\python313\\lib\\site-packages (from jsonschema>=3.0->altair<6,>=4.0->streamlit) (0.22.3)\n",
      "Requirement already satisfied: mdurl~=0.1 in c:\\users\\expertcomputer\\appdata\\local\\programs\\python\\python313\\lib\\site-packages (from markdown-it-py>=2.2.0->rich<14,>=10.14.0->streamlit) (0.1.2)\n",
      "Requirement already satisfied: six>=1.5 in c:\\users\\expertcomputer\\appdata\\local\\programs\\python\\python313\\lib\\site-packages (from python-dateutil>=2.8.2->pandas<3,>=1.4.0->streamlit) (1.17.0)\n"
     ]
    },
    {
     "name": "stderr",
     "output_type": "stream",
     "text": [
      "\n",
      "[notice] A new release of pip is available: 24.3.1 -> 25.0.1\n",
      "[notice] To update, run: python.exe -m pip install --upgrade pip\n"
     ]
    }
   ],
   "source": [
    "!pip install streamlit"
   ]
  }
 ],
 "metadata": {
  "kaggle": {
   "accelerator": "none",
   "dataSources": [
    {
     "datasetId": 483,
     "sourceId": 982,
     "sourceType": "datasetVersion"
    }
   ],
   "dockerImageVersionId": 30918,
   "isGpuEnabled": false,
   "isInternetEnabled": true,
   "language": "python",
   "sourceType": "notebook"
  },
  "kernelspec": {
   "display_name": "Python 3",
   "language": "python",
   "name": "python3"
  },
  "language_info": {
   "codemirror_mode": {
    "name": "ipython",
    "version": 3
   },
   "file_extension": ".py",
   "mimetype": "text/x-python",
   "name": "python",
   "nbconvert_exporter": "python",
   "pygments_lexer": "ipython3",
   "version": "3.13.0"
  },
  "papermill": {
   "default_parameters": {},
   "duration": 45.993017,
   "end_time": "2025-03-03T17:11:27.248987",
   "environment_variables": {},
   "exception": null,
   "input_path": "__notebook__.ipynb",
   "output_path": "__notebook__.ipynb",
   "parameters": {},
   "start_time": "2025-03-03T17:10:41.255970",
   "version": "2.6.0"
  }
 },
 "nbformat": 4,
 "nbformat_minor": 5
}
