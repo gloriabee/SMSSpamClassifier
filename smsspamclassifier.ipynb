{
 "cells": [
  {
   "cell_type": "code",
   "execution_count": 1,
   "id": "4b772d42",
   "metadata": {
    "_cell_guid": "b1076dfc-b9ad-4769-8c92-a6c4dae69d19",
    "_uuid": "8f2839f25d086af736a60e9eeb907d3b93b6e0e5",
    "execution": {
     "iopub.execute_input": "2025-03-03T17:10:44.290255Z",
     "iopub.status.busy": "2025-03-03T17:10:44.289735Z",
     "iopub.status.idle": "2025-03-03T17:10:45.342128Z",
     "shell.execute_reply": "2025-03-03T17:10:45.340812Z"
    },
    "papermill": {
     "duration": 1.064228,
     "end_time": "2025-03-03T17:10:45.344009",
     "exception": false,
     "start_time": "2025-03-03T17:10:44.279781",
     "status": "completed"
    },
    "tags": []
   },
   "outputs": [
    {
     "name": "stdout",
     "output_type": "stream",
     "text": [
      "/kaggle/input/sms-spam-collection-dataset/spam.csv\n"
     ]
    }
   ],
   "source": [
    "# This Python 3 environment comes with many helpful analytics libraries installed\n",
    "# It is defined by the kaggle/python Docker image: https://github.com/kaggle/docker-python\n",
    "# For example, here's several helpful packages to load\n",
    "\n",
    "import numpy as np # linear algebra\n",
    "import pandas as pd # data processing, CSV file I/O (e.g. pd.read_csv)\n",
    "\n",
    "# Input data files are available in the read-only \"../input/\" directory\n",
    "# For example, running this (by clicking run or pressing Shift+Enter) will list all files under the input directory\n",
    "\n",
    "import os\n",
    "for dirname, _, filenames in os.walk('/kaggle/input'):\n",
    "    for filename in filenames:\n",
    "        print(os.path.join(dirname, filename))\n",
    "\n",
    "# You can write up to 20GB to the current directory (/kaggle/working/) that gets preserved as output when you create a version using \"Save & Run All\" \n",
    "# You can also write temporary files to /kaggle/temp/, but they won't be saved outside of the current session"
   ]
  },
  {
   "cell_type": "markdown",
   "id": "231d02cf",
   "metadata": {
    "papermill": {
     "duration": 0.007926,
     "end_time": "2025-03-03T17:10:45.360326",
     "exception": false,
     "start_time": "2025-03-03T17:10:45.352400",
     "status": "completed"
    },
    "tags": []
   },
   "source": [
    "## Project Day"
   ]
  },
  {
   "cell_type": "markdown",
   "id": "5735869a",
   "metadata": {
    "papermill": {
     "duration": 0.007702,
     "end_time": "2025-03-03T17:10:45.376459",
     "exception": false,
     "start_time": "2025-03-03T17:10:45.368757",
     "status": "completed"
    },
    "tags": []
   },
   "source": [
    "### Importing the dataset"
   ]
  },
  {
   "cell_type": "code",
   "execution_count": 2,
   "id": "fa46ba04",
   "metadata": {
    "execution": {
     "iopub.execute_input": "2025-03-03T17:10:45.394319Z",
     "iopub.status.busy": "2025-03-03T17:10:45.393787Z",
     "iopub.status.idle": "2025-03-03T17:10:45.466171Z",
     "shell.execute_reply": "2025-03-03T17:10:45.464935Z"
    },
    "papermill": {
     "duration": 0.08331,
     "end_time": "2025-03-03T17:10:45.468162",
     "exception": false,
     "start_time": "2025-03-03T17:10:45.384852",
     "status": "completed"
    },
    "tags": []
   },
   "outputs": [
    {
     "data": {
      "text/html": [
       "<div>\n",
       "<style scoped>\n",
       "    .dataframe tbody tr th:only-of-type {\n",
       "        vertical-align: middle;\n",
       "    }\n",
       "\n",
       "    .dataframe tbody tr th {\n",
       "        vertical-align: top;\n",
       "    }\n",
       "\n",
       "    .dataframe thead th {\n",
       "        text-align: right;\n",
       "    }\n",
       "</style>\n",
       "<table border=\"1\" class=\"dataframe\">\n",
       "  <thead>\n",
       "    <tr style=\"text-align: right;\">\n",
       "      <th></th>\n",
       "      <th>label</th>\n",
       "      <th>message</th>\n",
       "    </tr>\n",
       "  </thead>\n",
       "  <tbody>\n",
       "    <tr>\n",
       "      <th>0</th>\n",
       "      <td>ham</td>\n",
       "      <td>Go until jurong point, crazy.. Available only ...</td>\n",
       "    </tr>\n",
       "    <tr>\n",
       "      <th>1</th>\n",
       "      <td>ham</td>\n",
       "      <td>Ok lar... Joking wif u oni...</td>\n",
       "    </tr>\n",
       "    <tr>\n",
       "      <th>2</th>\n",
       "      <td>spam</td>\n",
       "      <td>Free entry in 2 a wkly comp to win FA Cup fina...</td>\n",
       "    </tr>\n",
       "    <tr>\n",
       "      <th>3</th>\n",
       "      <td>ham</td>\n",
       "      <td>U dun say so early hor... U c already then say...</td>\n",
       "    </tr>\n",
       "    <tr>\n",
       "      <th>4</th>\n",
       "      <td>ham</td>\n",
       "      <td>Nah I don't think he goes to usf, he lives aro...</td>\n",
       "    </tr>\n",
       "  </tbody>\n",
       "</table>\n",
       "</div>"
      ],
      "text/plain": [
       "  label                                            message\n",
       "0   ham  Go until jurong point, crazy.. Available only ...\n",
       "1   ham                      Ok lar... Joking wif u oni...\n",
       "2  spam  Free entry in 2 a wkly comp to win FA Cup fina...\n",
       "3   ham  U dun say so early hor... U c already then say...\n",
       "4   ham  Nah I don't think he goes to usf, he lives aro..."
      ]
     },
     "execution_count": 2,
     "metadata": {},
     "output_type": "execute_result"
    }
   ],
   "source": [
    "df=pd.read_csv(\"/kaggle/input/sms-spam-collection-dataset/spam.csv\",encoding='latin-1')\n",
    "#dropping unrelated columns\n",
    "df=df.drop(columns=['Unnamed: 2', 'Unnamed: 3', 'Unnamed: 4'])\n",
    "#renaming columns\n",
    "df=df.rename(columns={\n",
    "     'v1':'label',\n",
    "    'v2':'message'\n",
    "}\n",
    ")\n",
    "df.head()"
   ]
  },
  {
   "cell_type": "code",
   "execution_count": 3,
   "id": "1c1deb4b",
   "metadata": {
    "execution": {
     "iopub.execute_input": "2025-03-03T17:10:45.486891Z",
     "iopub.status.busy": "2025-03-03T17:10:45.486450Z",
     "iopub.status.idle": "2025-03-03T17:10:45.493403Z",
     "shell.execute_reply": "2025-03-03T17:10:45.491649Z"
    },
    "papermill": {
     "duration": 0.018222,
     "end_time": "2025-03-03T17:10:45.495417",
     "exception": false,
     "start_time": "2025-03-03T17:10:45.477195",
     "status": "completed"
    },
    "tags": []
   },
   "outputs": [
    {
     "data": {
      "text/plain": [
       "(5572, 2)"
      ]
     },
     "execution_count": 3,
     "metadata": {},
     "output_type": "execute_result"
    }
   ],
   "source": [
    "#number of rows and columns\n",
    "df.shape"
   ]
  },
  {
   "cell_type": "markdown",
   "id": "6b12f695",
   "metadata": {
    "papermill": {
     "duration": 0.008005,
     "end_time": "2025-03-03T17:10:45.513488",
     "exception": false,
     "start_time": "2025-03-03T17:10:45.505483",
     "status": "completed"
    },
    "tags": []
   },
   "source": [
    "### Data cleaning and preprocessing"
   ]
  },
  {
   "cell_type": "code",
   "execution_count": 4,
   "id": "86adbd2a",
   "metadata": {
    "execution": {
     "iopub.execute_input": "2025-03-03T17:10:45.531634Z",
     "iopub.status.busy": "2025-03-03T17:10:45.531293Z",
     "iopub.status.idle": "2025-03-03T17:10:48.048668Z",
     "shell.execute_reply": "2025-03-03T17:10:48.047543Z"
    },
    "papermill": {
     "duration": 2.528945,
     "end_time": "2025-03-03T17:10:48.050627",
     "exception": false,
     "start_time": "2025-03-03T17:10:45.521682",
     "status": "completed"
    },
    "tags": []
   },
   "outputs": [
    {
     "name": "stdout",
     "output_type": "stream",
     "text": [
      "[nltk_data] Downloading package punkt to /usr/share/nltk_data...\n",
      "[nltk_data]   Package punkt is already up-to-date!\n"
     ]
    },
    {
     "data": {
      "text/plain": [
       "True"
      ]
     },
     "execution_count": 4,
     "metadata": {},
     "output_type": "execute_result"
    }
   ],
   "source": [
    "import re\n",
    "import nltk\n",
    "nltk.download('punkt')"
   ]
  },
  {
   "cell_type": "code",
   "execution_count": 5,
   "id": "3eef42e5",
   "metadata": {
    "execution": {
     "iopub.execute_input": "2025-03-03T17:10:48.069112Z",
     "iopub.status.busy": "2025-03-03T17:10:48.068558Z",
     "iopub.status.idle": "2025-03-03T17:10:48.577543Z",
     "shell.execute_reply": "2025-03-03T17:10:48.576123Z"
    },
    "papermill": {
     "duration": 0.520472,
     "end_time": "2025-03-03T17:10:48.579692",
     "exception": false,
     "start_time": "2025-03-03T17:10:48.059220",
     "status": "completed"
    },
    "tags": []
   },
   "outputs": [
    {
     "name": "stdout",
     "output_type": "stream",
     "text": [
      "Archive:  /usr/share/nltk_data/corpora/wordnet.zip\r\n",
      "   creating: /usr/share/nltk_data/corpora/wordnet/\r\n",
      "  inflating: /usr/share/nltk_data/corpora/wordnet/lexnames  \r\n",
      "  inflating: /usr/share/nltk_data/corpora/wordnet/data.verb  \r\n",
      "  inflating: /usr/share/nltk_data/corpora/wordnet/index.adv  \r\n",
      "  inflating: /usr/share/nltk_data/corpora/wordnet/adv.exc  \r\n",
      "  inflating: /usr/share/nltk_data/corpora/wordnet/index.verb  \r\n",
      "  inflating: /usr/share/nltk_data/corpora/wordnet/cntlist.rev  \r\n",
      "  inflating: /usr/share/nltk_data/corpora/wordnet/data.adj  \r\n",
      "  inflating: /usr/share/nltk_data/corpora/wordnet/index.adj  \r\n",
      "  inflating: /usr/share/nltk_data/corpora/wordnet/LICENSE  \r\n",
      "  inflating: /usr/share/nltk_data/corpora/wordnet/citation.bib  \r\n",
      "  inflating: /usr/share/nltk_data/corpora/wordnet/noun.exc  \r\n",
      "  inflating: /usr/share/nltk_data/corpora/wordnet/verb.exc  \r\n",
      "  inflating: /usr/share/nltk_data/corpora/wordnet/README  \r\n",
      "  inflating: /usr/share/nltk_data/corpora/wordnet/index.sense  \r\n",
      "  inflating: /usr/share/nltk_data/corpora/wordnet/data.noun  \r\n",
      "  inflating: /usr/share/nltk_data/corpora/wordnet/data.adv  \r\n",
      "  inflating: /usr/share/nltk_data/corpora/wordnet/index.noun  \r\n",
      "  inflating: /usr/share/nltk_data/corpora/wordnet/adj.exc  \r\n"
     ]
    }
   ],
   "source": [
    "from nltk.stem import PorterStemmer\n",
    "from nltk.corpus import stopwords\n",
    "from nltk.stem import WordNetLemmatizer\n",
    "!unzip /usr/share/nltk_data/corpora/wordnet.zip -d /usr/share/nltk_data/corpora/"
   ]
  },
  {
   "cell_type": "code",
   "execution_count": 6,
   "id": "682907f8",
   "metadata": {
    "execution": {
     "iopub.execute_input": "2025-03-03T17:10:48.599369Z",
     "iopub.status.busy": "2025-03-03T17:10:48.598914Z",
     "iopub.status.idle": "2025-03-03T17:10:48.603537Z",
     "shell.execute_reply": "2025-03-03T17:10:48.602519Z"
    },
    "papermill": {
     "duration": 0.016464,
     "end_time": "2025-03-03T17:10:48.605324",
     "exception": false,
     "start_time": "2025-03-03T17:10:48.588860",
     "status": "completed"
    },
    "tags": []
   },
   "outputs": [],
   "source": [
    "ps=PorterStemmer()\n",
    "lemmatizer=WordNetLemmatizer()"
   ]
  },
  {
   "cell_type": "code",
   "execution_count": 7,
   "id": "7ea58027",
   "metadata": {
    "execution": {
     "iopub.execute_input": "2025-03-03T17:10:48.628854Z",
     "iopub.status.busy": "2025-03-03T17:10:48.628467Z",
     "iopub.status.idle": "2025-03-03T17:11:01.234019Z",
     "shell.execute_reply": "2025-03-03T17:11:01.232845Z"
    },
    "papermill": {
     "duration": 12.618702,
     "end_time": "2025-03-03T17:11:01.236070",
     "exception": false,
     "start_time": "2025-03-03T17:10:48.617368",
     "status": "completed"
    },
    "tags": []
   },
   "outputs": [],
   "source": [
    "corpus=[]\n",
    "for i in range(len(df)):\n",
    "    review= re.sub('[^a-zA-Z]',' ',df['message'][i])\n",
    "    review= review.lower()\n",
    "    review= review.split()\n",
    "    review= [ps.stem(word) for word in review if word not in set(stopwords.words(\"english\"))]\n",
    "    review= ' '.join(review)\n",
    "    corpus.append(review)\n",
    "    "
   ]
  },
  {
   "cell_type": "markdown",
   "id": "b0039a28",
   "metadata": {
    "papermill": {
     "duration": 0.008376,
     "end_time": "2025-03-03T17:11:01.253613",
     "exception": false,
     "start_time": "2025-03-03T17:11:01.245237",
     "status": "completed"
    },
    "tags": []
   },
   "source": [
    "### Creating bags of words model"
   ]
  },
  {
   "cell_type": "markdown",
   "id": "f636e7c7",
   "metadata": {
    "papermill": {
     "duration": 0.00836,
     "end_time": "2025-03-03T17:11:01.271226",
     "exception": false,
     "start_time": "2025-03-03T17:11:01.262866",
     "status": "completed"
    },
    "tags": []
   },
   "source": [
    "X for message "
   ]
  },
  {
   "cell_type": "code",
   "execution_count": 8,
   "id": "668face4",
   "metadata": {
    "execution": {
     "iopub.execute_input": "2025-03-03T17:11:01.290042Z",
     "iopub.status.busy": "2025-03-03T17:11:01.289612Z",
     "iopub.status.idle": "2025-03-03T17:11:01.483723Z",
     "shell.execute_reply": "2025-03-03T17:11:01.482604Z"
    },
    "papermill": {
     "duration": 0.205652,
     "end_time": "2025-03-03T17:11:01.485578",
     "exception": false,
     "start_time": "2025-03-03T17:11:01.279926",
     "status": "completed"
    },
    "tags": []
   },
   "outputs": [
    {
     "data": {
      "text/plain": [
       "array([[0, 0, 0, ..., 0, 0, 0],\n",
       "       [0, 0, 0, ..., 0, 0, 0],\n",
       "       [0, 0, 0, ..., 0, 0, 0],\n",
       "       ...,\n",
       "       [0, 0, 0, ..., 0, 0, 0],\n",
       "       [0, 0, 0, ..., 0, 0, 0],\n",
       "       [0, 0, 0, ..., 0, 0, 0]])"
      ]
     },
     "execution_count": 8,
     "metadata": {},
     "output_type": "execute_result"
    }
   ],
   "source": [
    "from sklearn.feature_extraction.text import CountVectorizer\n",
    "cv=CountVectorizer(max_features=2500,binary=True,ngram_range=(2,2))\n",
    "X= cv.fit_transform(corpus).toarray()\n",
    "X"
   ]
  },
  {
   "cell_type": "markdown",
   "id": "cae173bd",
   "metadata": {
    "papermill": {
     "duration": 0.008294,
     "end_time": "2025-03-03T17:11:01.502807",
     "exception": false,
     "start_time": "2025-03-03T17:11:01.494513",
     "status": "completed"
    },
    "tags": []
   },
   "source": [
    "y for labels"
   ]
  },
  {
   "cell_type": "code",
   "execution_count": 9,
   "id": "d35dd67c",
   "metadata": {
    "execution": {
     "iopub.execute_input": "2025-03-03T17:11:01.522185Z",
     "iopub.status.busy": "2025-03-03T17:11:01.521797Z",
     "iopub.status.idle": "2025-03-03T17:11:01.533436Z",
     "shell.execute_reply": "2025-03-03T17:11:01.532463Z"
    },
    "papermill": {
     "duration": 0.023562,
     "end_time": "2025-03-03T17:11:01.535176",
     "exception": false,
     "start_time": "2025-03-03T17:11:01.511614",
     "status": "completed"
    },
    "tags": []
   },
   "outputs": [],
   "source": [
    "y= pd.get_dummies(df['label'])\n",
    "y=y.iloc[:,1].values"
   ]
  },
  {
   "cell_type": "markdown",
   "id": "e6ae1aa4",
   "metadata": {
    "papermill": {
     "duration": 0.008435,
     "end_time": "2025-03-03T17:11:01.552480",
     "exception": false,
     "start_time": "2025-03-03T17:11:01.544045",
     "status": "completed"
    },
    "tags": []
   },
   "source": [
    "### Train,Test Split"
   ]
  },
  {
   "cell_type": "code",
   "execution_count": 10,
   "id": "f7eed643",
   "metadata": {
    "execution": {
     "iopub.execute_input": "2025-03-03T17:11:01.571392Z",
     "iopub.status.busy": "2025-03-03T17:11:01.571004Z",
     "iopub.status.idle": "2025-03-03T17:11:01.575433Z",
     "shell.execute_reply": "2025-03-03T17:11:01.574280Z"
    },
    "papermill": {
     "duration": 0.016137,
     "end_time": "2025-03-03T17:11:01.577348",
     "exception": false,
     "start_time": "2025-03-03T17:11:01.561211",
     "status": "completed"
    },
    "tags": []
   },
   "outputs": [],
   "source": [
    "from sklearn.model_selection import train_test_split"
   ]
  },
  {
   "cell_type": "code",
   "execution_count": 11,
   "id": "a2d84289",
   "metadata": {
    "execution": {
     "iopub.execute_input": "2025-03-03T17:11:01.596486Z",
     "iopub.status.busy": "2025-03-03T17:11:01.596101Z",
     "iopub.status.idle": "2025-03-03T17:11:01.682122Z",
     "shell.execute_reply": "2025-03-03T17:11:01.681015Z"
    },
    "papermill": {
     "duration": 0.09789,
     "end_time": "2025-03-03T17:11:01.684181",
     "exception": false,
     "start_time": "2025-03-03T17:11:01.586291",
     "status": "completed"
    },
    "tags": []
   },
   "outputs": [],
   "source": [
    "X_train,X_test,y_train,y_test= train_test_split(X,y,test_size=0.20,random_state=0)"
   ]
  },
  {
   "cell_type": "code",
   "execution_count": 12,
   "id": "c6f56a8c",
   "metadata": {
    "execution": {
     "iopub.execute_input": "2025-03-03T17:11:01.703107Z",
     "iopub.status.busy": "2025-03-03T17:11:01.702681Z",
     "iopub.status.idle": "2025-03-03T17:11:01.709306Z",
     "shell.execute_reply": "2025-03-03T17:11:01.708102Z"
    },
    "papermill": {
     "duration": 0.018157,
     "end_time": "2025-03-03T17:11:01.711156",
     "exception": false,
     "start_time": "2025-03-03T17:11:01.692999",
     "status": "completed"
    },
    "tags": []
   },
   "outputs": [
    {
     "data": {
      "text/plain": [
       "(array([[0, 0, 0, ..., 0, 0, 0],\n",
       "        [0, 0, 0, ..., 0, 0, 0],\n",
       "        [0, 0, 0, ..., 0, 0, 0],\n",
       "        ...,\n",
       "        [0, 0, 0, ..., 0, 0, 0],\n",
       "        [0, 0, 0, ..., 0, 0, 0],\n",
       "        [0, 0, 0, ..., 0, 0, 0]]),\n",
       " array([False, False, False, ..., False, False, False]))"
      ]
     },
     "execution_count": 12,
     "metadata": {},
     "output_type": "execute_result"
    }
   ],
   "source": [
    "X_train,y_train"
   ]
  },
  {
   "cell_type": "markdown",
   "id": "db897421",
   "metadata": {
    "papermill": {
     "duration": 0.008557,
     "end_time": "2025-03-03T17:11:01.728777",
     "exception": false,
     "start_time": "2025-03-03T17:11:01.720220",
     "status": "completed"
    },
    "tags": []
   },
   "source": [
    "### Model building"
   ]
  },
  {
   "cell_type": "code",
   "execution_count": 13,
   "id": "f6729830",
   "metadata": {
    "execution": {
     "iopub.execute_input": "2025-03-03T17:11:01.748497Z",
     "iopub.status.busy": "2025-03-03T17:11:01.748065Z",
     "iopub.status.idle": "2025-03-03T17:11:01.837622Z",
     "shell.execute_reply": "2025-03-03T17:11:01.836501Z"
    },
    "papermill": {
     "duration": 0.10223,
     "end_time": "2025-03-03T17:11:01.839880",
     "exception": false,
     "start_time": "2025-03-03T17:11:01.737650",
     "status": "completed"
    },
    "tags": []
   },
   "outputs": [],
   "source": [
    "from sklearn.naive_bayes import MultinomialNB\n",
    "spam_detect_model= MultinomialNB().fit(X_train,y_train)"
   ]
  },
  {
   "cell_type": "markdown",
   "id": "7e735e71",
   "metadata": {
    "papermill": {
     "duration": 0.008619,
     "end_time": "2025-03-03T17:11:01.857497",
     "exception": false,
     "start_time": "2025-03-03T17:11:01.848878",
     "status": "completed"
    },
    "tags": []
   },
   "source": [
    "### Prediction"
   ]
  },
  {
   "cell_type": "code",
   "execution_count": 14,
   "id": "a075b8f0",
   "metadata": {
    "execution": {
     "iopub.execute_input": "2025-03-03T17:11:01.877698Z",
     "iopub.status.busy": "2025-03-03T17:11:01.877311Z",
     "iopub.status.idle": "2025-03-03T17:11:01.905540Z",
     "shell.execute_reply": "2025-03-03T17:11:01.904569Z"
    },
    "papermill": {
     "duration": 0.040953,
     "end_time": "2025-03-03T17:11:01.907476",
     "exception": false,
     "start_time": "2025-03-03T17:11:01.866523",
     "status": "completed"
    },
    "tags": []
   },
   "outputs": [],
   "source": [
    "y_pred= spam_detect_model.predict(X_test)"
   ]
  },
  {
   "cell_type": "markdown",
   "id": "480a8c1e",
   "metadata": {
    "papermill": {
     "duration": 0.008742,
     "end_time": "2025-03-03T17:11:01.925678",
     "exception": false,
     "start_time": "2025-03-03T17:11:01.916936",
     "status": "completed"
    },
    "tags": []
   },
   "source": [
    "### Model evaluation"
   ]
  },
  {
   "cell_type": "code",
   "execution_count": 15,
   "id": "bb12dc68",
   "metadata": {
    "execution": {
     "iopub.execute_input": "2025-03-03T17:11:01.944826Z",
     "iopub.status.busy": "2025-03-03T17:11:01.944438Z",
     "iopub.status.idle": "2025-03-03T17:11:01.948805Z",
     "shell.execute_reply": "2025-03-03T17:11:01.947699Z"
    },
    "papermill": {
     "duration": 0.015775,
     "end_time": "2025-03-03T17:11:01.950563",
     "exception": false,
     "start_time": "2025-03-03T17:11:01.934788",
     "status": "completed"
    },
    "tags": []
   },
   "outputs": [],
   "source": [
    "from sklearn.metrics import accuracy_score,classification_report"
   ]
  },
  {
   "cell_type": "code",
   "execution_count": 16,
   "id": "c178d3fb",
   "metadata": {
    "execution": {
     "iopub.execute_input": "2025-03-03T17:11:01.969966Z",
     "iopub.status.busy": "2025-03-03T17:11:01.969552Z",
     "iopub.status.idle": "2025-03-03T17:11:01.976539Z",
     "shell.execute_reply": "2025-03-03T17:11:01.975378Z"
    },
    "papermill": {
     "duration": 0.018725,
     "end_time": "2025-03-03T17:11:01.978370",
     "exception": false,
     "start_time": "2025-03-03T17:11:01.959645",
     "status": "completed"
    },
    "tags": []
   },
   "outputs": [
    {
     "name": "stdout",
     "output_type": "stream",
     "text": [
      "0.9632286995515695\n"
     ]
    }
   ],
   "source": [
    "score= accuracy_score(y_test,y_pred)\n",
    "print(score)"
   ]
  },
  {
   "cell_type": "code",
   "execution_count": 17,
   "id": "a29f8545",
   "metadata": {
    "execution": {
     "iopub.execute_input": "2025-03-03T17:11:01.997835Z",
     "iopub.status.busy": "2025-03-03T17:11:01.997311Z",
     "iopub.status.idle": "2025-03-03T17:11:02.013940Z",
     "shell.execute_reply": "2025-03-03T17:11:02.012512Z"
    },
    "papermill": {
     "duration": 0.02842,
     "end_time": "2025-03-03T17:11:02.015907",
     "exception": false,
     "start_time": "2025-03-03T17:11:01.987487",
     "status": "completed"
    },
    "tags": []
   },
   "outputs": [
    {
     "name": "stdout",
     "output_type": "stream",
     "text": [
      "              precision    recall  f1-score   support\n",
      "\n",
      "       False       1.00      0.96      0.98       988\n",
      "        True       0.76      0.99      0.86       127\n",
      "\n",
      "    accuracy                           0.96      1115\n",
      "   macro avg       0.88      0.98      0.92      1115\n",
      "weighted avg       0.97      0.96      0.97      1115\n",
      "\n"
     ]
    }
   ],
   "source": [
    "print(classification_report(y_pred,y_test))"
   ]
  },
  {
   "cell_type": "markdown",
   "id": "9d87e1b1",
   "metadata": {
    "papermill": {
     "duration": 0.009116,
     "end_time": "2025-03-03T17:11:02.034261",
     "exception": false,
     "start_time": "2025-03-03T17:11:02.025145",
     "status": "completed"
    },
    "tags": []
   },
   "source": [
    "### TF/IDF model"
   ]
  },
  {
   "cell_type": "code",
   "execution_count": 18,
   "id": "cfb4822b",
   "metadata": {
    "execution": {
     "iopub.execute_input": "2025-03-03T17:11:02.053869Z",
     "iopub.status.busy": "2025-03-03T17:11:02.053452Z",
     "iopub.status.idle": "2025-03-03T17:11:02.383342Z",
     "shell.execute_reply": "2025-03-03T17:11:02.382189Z"
    },
    "papermill": {
     "duration": 0.342082,
     "end_time": "2025-03-03T17:11:02.385576",
     "exception": false,
     "start_time": "2025-03-03T17:11:02.043494",
     "status": "completed"
    },
    "tags": []
   },
   "outputs": [],
   "source": [
    "from sklearn.feature_extraction.text import TfidfVectorizer\n",
    "tv=TfidfVectorizer(max_features=2500,ngram_range=(1,2))\n",
    "X=tv.fit_transform(corpus).toarray()"
   ]
  },
  {
   "cell_type": "markdown",
   "id": "7f836e89",
   "metadata": {
    "papermill": {
     "duration": 0.009109,
     "end_time": "2025-03-03T17:11:02.404451",
     "exception": false,
     "start_time": "2025-03-03T17:11:02.395342",
     "status": "completed"
    },
    "tags": []
   },
   "source": [
    "### Train,Test,Split"
   ]
  },
  {
   "cell_type": "code",
   "execution_count": 19,
   "id": "532d0771",
   "metadata": {
    "execution": {
     "iopub.execute_input": "2025-03-03T17:11:02.425119Z",
     "iopub.status.busy": "2025-03-03T17:11:02.424688Z",
     "iopub.status.idle": "2025-03-03T17:11:02.429173Z",
     "shell.execute_reply": "2025-03-03T17:11:02.427924Z"
    },
    "papermill": {
     "duration": 0.017997,
     "end_time": "2025-03-03T17:11:02.431447",
     "exception": false,
     "start_time": "2025-03-03T17:11:02.413450",
     "status": "completed"
    },
    "tags": []
   },
   "outputs": [],
   "source": [
    "from sklearn.model_selection import train_test_split"
   ]
  },
  {
   "cell_type": "code",
   "execution_count": 20,
   "id": "d220efea",
   "metadata": {
    "execution": {
     "iopub.execute_input": "2025-03-03T17:11:02.451223Z",
     "iopub.status.busy": "2025-03-03T17:11:02.450773Z",
     "iopub.status.idle": "2025-03-03T17:11:02.519623Z",
     "shell.execute_reply": "2025-03-03T17:11:02.518501Z"
    },
    "papermill": {
     "duration": 0.080953,
     "end_time": "2025-03-03T17:11:02.521648",
     "exception": false,
     "start_time": "2025-03-03T17:11:02.440695",
     "status": "completed"
    },
    "tags": []
   },
   "outputs": [],
   "source": [
    "X_train,X_test,y_train,y_test= train_test_split(X,y,test_size=0.20,random_state=0)"
   ]
  },
  {
   "cell_type": "code",
   "execution_count": 21,
   "id": "6acb9629",
   "metadata": {
    "execution": {
     "iopub.execute_input": "2025-03-03T17:11:02.541228Z",
     "iopub.status.busy": "2025-03-03T17:11:02.540815Z",
     "iopub.status.idle": "2025-03-03T17:11:02.578679Z",
     "shell.execute_reply": "2025-03-03T17:11:02.577443Z"
    },
    "papermill": {
     "duration": 0.049909,
     "end_time": "2025-03-03T17:11:02.580913",
     "exception": false,
     "start_time": "2025-03-03T17:11:02.531004",
     "status": "completed"
    },
    "tags": []
   },
   "outputs": [],
   "source": [
    "from sklearn.naive_bayes import MultinomialNB\n",
    "spam_detect_model= MultinomialNB().fit(X_train,y_train)"
   ]
  },
  {
   "cell_type": "code",
   "execution_count": 22,
   "id": "139dd890",
   "metadata": {
    "execution": {
     "iopub.execute_input": "2025-03-03T17:11:02.601760Z",
     "iopub.status.busy": "2025-03-03T17:11:02.601381Z",
     "iopub.status.idle": "2025-03-03T17:11:02.611439Z",
     "shell.execute_reply": "2025-03-03T17:11:02.610428Z"
    },
    "papermill": {
     "duration": 0.023495,
     "end_time": "2025-03-03T17:11:02.613698",
     "exception": false,
     "start_time": "2025-03-03T17:11:02.590203",
     "status": "completed"
    },
    "tags": []
   },
   "outputs": [],
   "source": [
    "#prediction\n",
    "y_pred=spam_detect_model.predict(X_test)"
   ]
  },
  {
   "cell_type": "code",
   "execution_count": 23,
   "id": "b4eb859c",
   "metadata": {
    "execution": {
     "iopub.execute_input": "2025-03-03T17:11:02.633445Z",
     "iopub.status.busy": "2025-03-03T17:11:02.633075Z",
     "iopub.status.idle": "2025-03-03T17:11:02.637375Z",
     "shell.execute_reply": "2025-03-03T17:11:02.636314Z"
    },
    "papermill": {
     "duration": 0.016117,
     "end_time": "2025-03-03T17:11:02.639176",
     "exception": false,
     "start_time": "2025-03-03T17:11:02.623059",
     "status": "completed"
    },
    "tags": []
   },
   "outputs": [],
   "source": [
    "from sklearn.metrics import accuracy_score,classification_report"
   ]
  },
  {
   "cell_type": "code",
   "execution_count": 24,
   "id": "9fadacb1",
   "metadata": {
    "execution": {
     "iopub.execute_input": "2025-03-03T17:11:02.658604Z",
     "iopub.status.busy": "2025-03-03T17:11:02.658220Z",
     "iopub.status.idle": "2025-03-03T17:11:02.665161Z",
     "shell.execute_reply": "2025-03-03T17:11:02.663976Z"
    },
    "papermill": {
     "duration": 0.018854,
     "end_time": "2025-03-03T17:11:02.667169",
     "exception": false,
     "start_time": "2025-03-03T17:11:02.648315",
     "status": "completed"
    },
    "tags": []
   },
   "outputs": [
    {
     "name": "stdout",
     "output_type": "stream",
     "text": [
      "0.9704035874439462\n"
     ]
    }
   ],
   "source": [
    "score= accuracy_score(y_test,y_pred)\n",
    "print(score)"
   ]
  },
  {
   "cell_type": "code",
   "execution_count": 25,
   "id": "ea87271b",
   "metadata": {
    "execution": {
     "iopub.execute_input": "2025-03-03T17:11:02.689784Z",
     "iopub.status.busy": "2025-03-03T17:11:02.689356Z",
     "iopub.status.idle": "2025-03-03T17:11:02.704399Z",
     "shell.execute_reply": "2025-03-03T17:11:02.703035Z"
    },
    "papermill": {
     "duration": 0.029432,
     "end_time": "2025-03-03T17:11:02.706199",
     "exception": false,
     "start_time": "2025-03-03T17:11:02.676767",
     "status": "completed"
    },
    "tags": []
   },
   "outputs": [
    {
     "name": "stdout",
     "output_type": "stream",
     "text": [
      "              precision    recall  f1-score   support\n",
      "\n",
      "       False       1.00      0.97      0.98       980\n",
      "        True       0.81      0.99      0.89       135\n",
      "\n",
      "    accuracy                           0.97      1115\n",
      "   macro avg       0.90      0.98      0.94      1115\n",
      "weighted avg       0.98      0.97      0.97      1115\n",
      "\n"
     ]
    }
   ],
   "source": [
    "print(classification_report(y_pred,y_test))"
   ]
  },
  {
   "cell_type": "markdown",
   "id": "5b8989b1",
   "metadata": {
    "papermill": {
     "duration": 0.009021,
     "end_time": "2025-03-03T17:11:02.724571",
     "exception": false,
     "start_time": "2025-03-03T17:11:02.715550",
     "status": "completed"
    },
    "tags": []
   },
   "source": [
    "### RandomForest"
   ]
  },
  {
   "cell_type": "code",
   "execution_count": 26,
   "id": "699f7ffc",
   "metadata": {
    "execution": {
     "iopub.execute_input": "2025-03-03T17:11:02.745494Z",
     "iopub.status.busy": "2025-03-03T17:11:02.745136Z",
     "iopub.status.idle": "2025-03-03T17:11:03.052550Z",
     "shell.execute_reply": "2025-03-03T17:11:03.051552Z"
    },
    "papermill": {
     "duration": 0.32044,
     "end_time": "2025-03-03T17:11:03.054749",
     "exception": false,
     "start_time": "2025-03-03T17:11:02.734309",
     "status": "completed"
    },
    "tags": []
   },
   "outputs": [],
   "source": [
    "from sklearn.ensemble import RandomForestClassifier\n",
    "classifier=RandomForestClassifier()"
   ]
  },
  {
   "cell_type": "code",
   "execution_count": 27,
   "id": "127937c4",
   "metadata": {
    "execution": {
     "iopub.execute_input": "2025-03-03T17:11:03.075112Z",
     "iopub.status.busy": "2025-03-03T17:11:03.074746Z",
     "iopub.status.idle": "2025-03-03T17:11:13.990119Z",
     "shell.execute_reply": "2025-03-03T17:11:13.989062Z"
    },
    "papermill": {
     "duration": 10.927445,
     "end_time": "2025-03-03T17:11:13.991837",
     "exception": false,
     "start_time": "2025-03-03T17:11:03.064392",
     "status": "completed"
    },
    "tags": []
   },
   "outputs": [
    {
     "data": {
      "text/html": [
       "<style>#sk-container-id-1 {color: black;background-color: white;}#sk-container-id-1 pre{padding: 0;}#sk-container-id-1 div.sk-toggleable {background-color: white;}#sk-container-id-1 label.sk-toggleable__label {cursor: pointer;display: block;width: 100%;margin-bottom: 0;padding: 0.3em;box-sizing: border-box;text-align: center;}#sk-container-id-1 label.sk-toggleable__label-arrow:before {content: \"▸\";float: left;margin-right: 0.25em;color: #696969;}#sk-container-id-1 label.sk-toggleable__label-arrow:hover:before {color: black;}#sk-container-id-1 div.sk-estimator:hover label.sk-toggleable__label-arrow:before {color: black;}#sk-container-id-1 div.sk-toggleable__content {max-height: 0;max-width: 0;overflow: hidden;text-align: left;background-color: #f0f8ff;}#sk-container-id-1 div.sk-toggleable__content pre {margin: 0.2em;color: black;border-radius: 0.25em;background-color: #f0f8ff;}#sk-container-id-1 input.sk-toggleable__control:checked~div.sk-toggleable__content {max-height: 200px;max-width: 100%;overflow: auto;}#sk-container-id-1 input.sk-toggleable__control:checked~label.sk-toggleable__label-arrow:before {content: \"▾\";}#sk-container-id-1 div.sk-estimator input.sk-toggleable__control:checked~label.sk-toggleable__label {background-color: #d4ebff;}#sk-container-id-1 div.sk-label input.sk-toggleable__control:checked~label.sk-toggleable__label {background-color: #d4ebff;}#sk-container-id-1 input.sk-hidden--visually {border: 0;clip: rect(1px 1px 1px 1px);clip: rect(1px, 1px, 1px, 1px);height: 1px;margin: -1px;overflow: hidden;padding: 0;position: absolute;width: 1px;}#sk-container-id-1 div.sk-estimator {font-family: monospace;background-color: #f0f8ff;border: 1px dotted black;border-radius: 0.25em;box-sizing: border-box;margin-bottom: 0.5em;}#sk-container-id-1 div.sk-estimator:hover {background-color: #d4ebff;}#sk-container-id-1 div.sk-parallel-item::after {content: \"\";width: 100%;border-bottom: 1px solid gray;flex-grow: 1;}#sk-container-id-1 div.sk-label:hover label.sk-toggleable__label {background-color: #d4ebff;}#sk-container-id-1 div.sk-serial::before {content: \"\";position: absolute;border-left: 1px solid gray;box-sizing: border-box;top: 0;bottom: 0;left: 50%;z-index: 0;}#sk-container-id-1 div.sk-serial {display: flex;flex-direction: column;align-items: center;background-color: white;padding-right: 0.2em;padding-left: 0.2em;position: relative;}#sk-container-id-1 div.sk-item {position: relative;z-index: 1;}#sk-container-id-1 div.sk-parallel {display: flex;align-items: stretch;justify-content: center;background-color: white;position: relative;}#sk-container-id-1 div.sk-item::before, #sk-container-id-1 div.sk-parallel-item::before {content: \"\";position: absolute;border-left: 1px solid gray;box-sizing: border-box;top: 0;bottom: 0;left: 50%;z-index: -1;}#sk-container-id-1 div.sk-parallel-item {display: flex;flex-direction: column;z-index: 1;position: relative;background-color: white;}#sk-container-id-1 div.sk-parallel-item:first-child::after {align-self: flex-end;width: 50%;}#sk-container-id-1 div.sk-parallel-item:last-child::after {align-self: flex-start;width: 50%;}#sk-container-id-1 div.sk-parallel-item:only-child::after {width: 0;}#sk-container-id-1 div.sk-dashed-wrapped {border: 1px dashed gray;margin: 0 0.4em 0.5em 0.4em;box-sizing: border-box;padding-bottom: 0.4em;background-color: white;}#sk-container-id-1 div.sk-label label {font-family: monospace;font-weight: bold;display: inline-block;line-height: 1.2em;}#sk-container-id-1 div.sk-label-container {text-align: center;}#sk-container-id-1 div.sk-container {/* jupyter's `normalize.less` sets `[hidden] { display: none; }` but bootstrap.min.css set `[hidden] { display: none !important; }` so we also need the `!important` here to be able to override the default hidden behavior on the sphinx rendered scikit-learn.org. See: https://github.com/scikit-learn/scikit-learn/issues/21755 */display: inline-block !important;position: relative;}#sk-container-id-1 div.sk-text-repr-fallback {display: none;}</style><div id=\"sk-container-id-1\" class=\"sk-top-container\"><div class=\"sk-text-repr-fallback\"><pre>RandomForestClassifier()</pre><b>In a Jupyter environment, please rerun this cell to show the HTML representation or trust the notebook. <br />On GitHub, the HTML representation is unable to render, please try loading this page with nbviewer.org.</b></div><div class=\"sk-container\" hidden><div class=\"sk-item\"><div class=\"sk-estimator sk-toggleable\"><input class=\"sk-toggleable__control sk-hidden--visually\" id=\"sk-estimator-id-1\" type=\"checkbox\" checked><label for=\"sk-estimator-id-1\" class=\"sk-toggleable__label sk-toggleable__label-arrow\">RandomForestClassifier</label><div class=\"sk-toggleable__content\"><pre>RandomForestClassifier()</pre></div></div></div></div></div>"
      ],
      "text/plain": [
       "RandomForestClassifier()"
      ]
     },
     "execution_count": 27,
     "metadata": {},
     "output_type": "execute_result"
    }
   ],
   "source": [
    "classifier.fit(X_train,y_train)"
   ]
  },
  {
   "cell_type": "code",
   "execution_count": 28,
   "id": "110777ec",
   "metadata": {
    "execution": {
     "iopub.execute_input": "2025-03-03T17:11:14.012206Z",
     "iopub.status.busy": "2025-03-03T17:11:14.011817Z",
     "iopub.status.idle": "2025-03-03T17:11:14.102475Z",
     "shell.execute_reply": "2025-03-03T17:11:14.101335Z"
    },
    "papermill": {
     "duration": 0.102973,
     "end_time": "2025-03-03T17:11:14.104506",
     "exception": false,
     "start_time": "2025-03-03T17:11:14.001533",
     "status": "completed"
    },
    "tags": []
   },
   "outputs": [],
   "source": [
    "y_pred=classifier.predict(X_test)"
   ]
  },
  {
   "cell_type": "code",
   "execution_count": 29,
   "id": "daceac4c",
   "metadata": {
    "execution": {
     "iopub.execute_input": "2025-03-03T17:11:14.125619Z",
     "iopub.status.busy": "2025-03-03T17:11:14.125194Z",
     "iopub.status.idle": "2025-03-03T17:11:14.142553Z",
     "shell.execute_reply": "2025-03-03T17:11:14.140856Z"
    },
    "papermill": {
     "duration": 0.029927,
     "end_time": "2025-03-03T17:11:14.144543",
     "exception": false,
     "start_time": "2025-03-03T17:11:14.114616",
     "status": "completed"
    },
    "tags": []
   },
   "outputs": [
    {
     "name": "stdout",
     "output_type": "stream",
     "text": [
      "0.9829596412556054\n",
      "              precision    recall  f1-score   support\n",
      "\n",
      "       False       1.00      0.98      0.99       968\n",
      "        True       0.89      1.00      0.94       147\n",
      "\n",
      "    accuracy                           0.98      1115\n",
      "   macro avg       0.94      0.99      0.96      1115\n",
      "weighted avg       0.98      0.98      0.98      1115\n",
      "\n"
     ]
    }
   ],
   "source": [
    "print(accuracy_score(y_pred,y_test))\n",
    "print(classification_report(y_pred,y_test))"
   ]
  },
  {
   "cell_type": "code",
   "execution_count": 30,
   "id": "375daa8a",
   "metadata": {
    "execution": {
     "iopub.execute_input": "2025-03-03T17:11:14.168894Z",
     "iopub.status.busy": "2025-03-03T17:11:14.168412Z",
     "iopub.status.idle": "2025-03-03T17:11:19.904547Z",
     "shell.execute_reply": "2025-03-03T17:11:19.903160Z"
    },
    "papermill": {
     "duration": 5.751489,
     "end_time": "2025-03-03T17:11:19.907262",
     "exception": false,
     "start_time": "2025-03-03T17:11:14.155773",
     "status": "completed"
    },
    "tags": []
   },
   "outputs": [
    {
     "name": "stdout",
     "output_type": "stream",
     "text": [
      "Requirement already satisfied: joblib in /usr/local/lib/python3.10/dist-packages (1.4.2)\r\n"
     ]
    }
   ],
   "source": [
    "!pip install joblib"
   ]
  },
  {
   "cell_type": "code",
   "execution_count": 31,
   "id": "e039d346",
   "metadata": {
    "execution": {
     "iopub.execute_input": "2025-03-03T17:11:19.929290Z",
     "iopub.status.busy": "2025-03-03T17:11:19.928864Z",
     "iopub.status.idle": "2025-03-03T17:11:19.933913Z",
     "shell.execute_reply": "2025-03-03T17:11:19.932546Z"
    },
    "papermill": {
     "duration": 0.018538,
     "end_time": "2025-03-03T17:11:19.936065",
     "exception": false,
     "start_time": "2025-03-03T17:11:19.917527",
     "status": "completed"
    },
    "tags": []
   },
   "outputs": [],
   "source": [
    "import joblib"
   ]
  },
  {
   "cell_type": "code",
   "execution_count": 32,
   "id": "fd29fa02",
   "metadata": {
    "execution": {
     "iopub.execute_input": "2025-03-03T17:11:19.956644Z",
     "iopub.status.busy": "2025-03-03T17:11:19.956273Z",
     "iopub.status.idle": "2025-03-03T17:11:20.018207Z",
     "shell.execute_reply": "2025-03-03T17:11:20.017089Z"
    },
    "papermill": {
     "duration": 0.074223,
     "end_time": "2025-03-03T17:11:20.019993",
     "exception": false,
     "start_time": "2025-03-03T17:11:19.945770",
     "status": "completed"
    },
    "tags": []
   },
   "outputs": [
    {
     "data": {
      "text/plain": [
       "['clasi_model.pkl']"
      ]
     },
     "execution_count": 32,
     "metadata": {},
     "output_type": "execute_result"
    }
   ],
   "source": [
    "joblib.dump(classifier,\"clasi_model.pkl\")"
   ]
  },
  {
   "cell_type": "code",
   "execution_count": 33,
   "id": "f1d88eb1",
   "metadata": {
    "execution": {
     "iopub.execute_input": "2025-03-03T17:11:20.042269Z",
     "iopub.status.busy": "2025-03-03T17:11:20.041862Z",
     "iopub.status.idle": "2025-03-03T17:11:26.413606Z",
     "shell.execute_reply": "2025-03-03T17:11:26.412213Z"
    },
    "papermill": {
     "duration": 6.38522,
     "end_time": "2025-03-03T17:11:26.415826",
     "exception": false,
     "start_time": "2025-03-03T17:11:20.030606",
     "status": "completed"
    },
    "tags": []
   },
   "outputs": [
    {
     "name": "stdout",
     "output_type": "stream",
     "text": [
      "Collecting streamlit\r\n",
      "  Downloading streamlit-1.42.2-py2.py3-none-any.whl.metadata (8.9 kB)\r\n",
      "Requirement already satisfied: altair<6,>=4.0 in /usr/local/lib/python3.10/dist-packages (from streamlit) (5.5.0)\r\n",
      "Requirement already satisfied: blinker<2,>=1.0.0 in /usr/local/lib/python3.10/dist-packages (from streamlit) (1.9.0)\r\n",
      "Requirement already satisfied: cachetools<6,>=4.0 in /usr/local/lib/python3.10/dist-packages (from streamlit) (5.5.0)\r\n",
      "Requirement already satisfied: click<9,>=7.0 in /usr/local/lib/python3.10/dist-packages (from streamlit) (8.1.7)\r\n",
      "Requirement already satisfied: numpy<3,>=1.23 in /usr/local/lib/python3.10/dist-packages (from streamlit) (1.26.4)\r\n",
      "Requirement already satisfied: packaging<25,>=20 in /usr/local/lib/python3.10/dist-packages (from streamlit) (24.2)\r\n",
      "Requirement already satisfied: pandas<3,>=1.4.0 in /usr/local/lib/python3.10/dist-packages (from streamlit) (2.2.3)\r\n",
      "Requirement already satisfied: pillow<12,>=7.1.0 in /usr/local/lib/python3.10/dist-packages (from streamlit) (11.0.0)\r\n",
      "Requirement already satisfied: protobuf<6,>=3.20 in /usr/local/lib/python3.10/dist-packages (from streamlit) (3.20.3)\r\n",
      "Requirement already satisfied: pyarrow>=7.0 in /usr/local/lib/python3.10/dist-packages (from streamlit) (19.0.1)\r\n",
      "Requirement already satisfied: requests<3,>=2.27 in /usr/local/lib/python3.10/dist-packages (from streamlit) (2.32.3)\r\n",
      "Requirement already satisfied: rich<14,>=10.14.0 in /usr/local/lib/python3.10/dist-packages (from streamlit) (13.9.4)\r\n",
      "Requirement already satisfied: tenacity<10,>=8.1.0 in /usr/local/lib/python3.10/dist-packages (from streamlit) (9.0.0)\r\n",
      "Requirement already satisfied: toml<2,>=0.10.1 in /usr/local/lib/python3.10/dist-packages (from streamlit) (0.10.2)\r\n",
      "Requirement already satisfied: typing-extensions<5,>=4.4.0 in /usr/local/lib/python3.10/dist-packages (from streamlit) (4.12.2)\r\n",
      "Requirement already satisfied: watchdog<7,>=2.1.5 in /usr/local/lib/python3.10/dist-packages (from streamlit) (6.0.0)\r\n",
      "Requirement already satisfied: gitpython!=3.1.19,<4,>=3.0.7 in /usr/local/lib/python3.10/dist-packages (from streamlit) (3.1.43)\r\n",
      "Collecting pydeck<1,>=0.8.0b4 (from streamlit)\r\n",
      "  Downloading pydeck-0.9.1-py2.py3-none-any.whl.metadata (4.1 kB)\r\n",
      "Requirement already satisfied: tornado<7,>=6.0.3 in /usr/local/lib/python3.10/dist-packages (from streamlit) (6.3.3)\r\n",
      "Requirement already satisfied: jinja2 in /usr/local/lib/python3.10/dist-packages (from altair<6,>=4.0->streamlit) (3.1.4)\r\n",
      "Requirement already satisfied: jsonschema>=3.0 in /usr/local/lib/python3.10/dist-packages (from altair<6,>=4.0->streamlit) (4.23.0)\r\n",
      "Requirement already satisfied: narwhals>=1.14.2 in /usr/local/lib/python3.10/dist-packages (from altair<6,>=4.0->streamlit) (1.18.4)\r\n",
      "Requirement already satisfied: gitdb<5,>=4.0.1 in /usr/local/lib/python3.10/dist-packages (from gitpython!=3.1.19,<4,>=3.0.7->streamlit) (4.0.11)\r\n",
      "Requirement already satisfied: mkl_fft in /usr/local/lib/python3.10/dist-packages (from numpy<3,>=1.23->streamlit) (1.3.8)\r\n",
      "Requirement already satisfied: mkl_random in /usr/local/lib/python3.10/dist-packages (from numpy<3,>=1.23->streamlit) (1.2.4)\r\n",
      "Requirement already satisfied: mkl_umath in /usr/local/lib/python3.10/dist-packages (from numpy<3,>=1.23->streamlit) (0.1.1)\r\n",
      "Requirement already satisfied: mkl in /usr/local/lib/python3.10/dist-packages (from numpy<3,>=1.23->streamlit) (2025.0.1)\r\n",
      "Requirement already satisfied: tbb4py in /usr/local/lib/python3.10/dist-packages (from numpy<3,>=1.23->streamlit) (2022.0.0)\r\n",
      "Requirement already satisfied: mkl-service in /usr/local/lib/python3.10/dist-packages (from numpy<3,>=1.23->streamlit) (2.4.1)\r\n",
      "Requirement already satisfied: python-dateutil>=2.8.2 in /usr/local/lib/python3.10/dist-packages (from pandas<3,>=1.4.0->streamlit) (2.9.0.post0)\r\n",
      "Requirement already satisfied: pytz>=2020.1 in /usr/local/lib/python3.10/dist-packages (from pandas<3,>=1.4.0->streamlit) (2025.1)\r\n",
      "Requirement already satisfied: tzdata>=2022.7 in /usr/local/lib/python3.10/dist-packages (from pandas<3,>=1.4.0->streamlit) (2025.1)\r\n",
      "Requirement already satisfied: charset-normalizer<4,>=2 in /usr/local/lib/python3.10/dist-packages (from requests<3,>=2.27->streamlit) (3.4.1)\r\n",
      "Requirement already satisfied: idna<4,>=2.5 in /usr/local/lib/python3.10/dist-packages (from requests<3,>=2.27->streamlit) (3.10)\r\n",
      "Requirement already satisfied: urllib3<3,>=1.21.1 in /usr/local/lib/python3.10/dist-packages (from requests<3,>=2.27->streamlit) (2.3.0)\r\n",
      "Requirement already satisfied: certifi>=2017.4.17 in /usr/local/lib/python3.10/dist-packages (from requests<3,>=2.27->streamlit) (2025.1.31)\r\n",
      "Requirement already satisfied: markdown-it-py>=2.2.0 in /usr/local/lib/python3.10/dist-packages (from rich<14,>=10.14.0->streamlit) (3.0.0)\r\n",
      "Requirement already satisfied: pygments<3.0.0,>=2.13.0 in /usr/local/lib/python3.10/dist-packages (from rich<14,>=10.14.0->streamlit) (2.19.1)\r\n",
      "Requirement already satisfied: smmap<6,>=3.0.1 in /usr/local/lib/python3.10/dist-packages (from gitdb<5,>=4.0.1->gitpython!=3.1.19,<4,>=3.0.7->streamlit) (5.0.1)\r\n",
      "Requirement already satisfied: MarkupSafe>=2.0 in /usr/local/lib/python3.10/dist-packages (from jinja2->altair<6,>=4.0->streamlit) (3.0.2)\r\n",
      "Requirement already satisfied: attrs>=22.2.0 in /usr/local/lib/python3.10/dist-packages (from jsonschema>=3.0->altair<6,>=4.0->streamlit) (25.1.0)\r\n",
      "Requirement already satisfied: jsonschema-specifications>=2023.03.6 in /usr/local/lib/python3.10/dist-packages (from jsonschema>=3.0->altair<6,>=4.0->streamlit) (2024.10.1)\r\n",
      "Requirement already satisfied: referencing>=0.28.4 in /usr/local/lib/python3.10/dist-packages (from jsonschema>=3.0->altair<6,>=4.0->streamlit) (0.35.1)\r\n",
      "Requirement already satisfied: rpds-py>=0.7.1 in /usr/local/lib/python3.10/dist-packages (from jsonschema>=3.0->altair<6,>=4.0->streamlit) (0.22.3)\r\n",
      "Requirement already satisfied: mdurl~=0.1 in /usr/local/lib/python3.10/dist-packages (from markdown-it-py>=2.2.0->rich<14,>=10.14.0->streamlit) (0.1.2)\r\n",
      "Requirement already satisfied: six>=1.5 in /usr/local/lib/python3.10/dist-packages (from python-dateutil>=2.8.2->pandas<3,>=1.4.0->streamlit) (1.17.0)\r\n",
      "Requirement already satisfied: intel-openmp>=2024 in /usr/local/lib/python3.10/dist-packages (from mkl->numpy<3,>=1.23->streamlit) (2024.2.0)\r\n",
      "Requirement already satisfied: tbb==2022.* in /usr/local/lib/python3.10/dist-packages (from mkl->numpy<3,>=1.23->streamlit) (2022.0.0)\r\n",
      "Requirement already satisfied: tcmlib==1.* in /usr/local/lib/python3.10/dist-packages (from tbb==2022.*->mkl->numpy<3,>=1.23->streamlit) (1.2.0)\r\n",
      "Requirement already satisfied: intel-cmplr-lib-rt in /usr/local/lib/python3.10/dist-packages (from mkl_umath->numpy<3,>=1.23->streamlit) (2024.2.0)\r\n",
      "Requirement already satisfied: intel-cmplr-lib-ur==2024.2.0 in /usr/local/lib/python3.10/dist-packages (from intel-openmp>=2024->mkl->numpy<3,>=1.23->streamlit) (2024.2.0)\r\n",
      "Downloading streamlit-1.42.2-py2.py3-none-any.whl (9.6 MB)\r\n",
      "\u001b[2K   \u001b[90m━━━━━━━━━━━━━━━━━━━━━━━━━━━━━━━━━━━━━━━━\u001b[0m \u001b[32m9.6/9.6 MB\u001b[0m \u001b[31m59.7 MB/s\u001b[0m eta \u001b[36m0:00:00\u001b[0m\r\n",
      "\u001b[?25hDownloading pydeck-0.9.1-py2.py3-none-any.whl (6.9 MB)\r\n",
      "\u001b[2K   \u001b[90m━━━━━━━━━━━━━━━━━━━━━━━━━━━━━━━━━━━━━━━━\u001b[0m \u001b[32m6.9/6.9 MB\u001b[0m \u001b[31m92.9 MB/s\u001b[0m eta \u001b[36m0:00:00\u001b[0m\r\n",
      "\u001b[?25hInstalling collected packages: pydeck, streamlit\r\n",
      "Successfully installed pydeck-0.9.1 streamlit-1.42.2\r\n"
     ]
    }
   ],
   "source": [
    "!pip install streamlit"
   ]
  }
 ],
 "metadata": {
  "kaggle": {
   "accelerator": "none",
   "dataSources": [
    {
     "datasetId": 483,
     "sourceId": 982,
     "sourceType": "datasetVersion"
    }
   ],
   "dockerImageVersionId": 30918,
   "isGpuEnabled": false,
   "isInternetEnabled": true,
   "language": "python",
   "sourceType": "notebook"
  },
  "kernelspec": {
   "display_name": "Python 3",
   "language": "python",
   "name": "python3"
  },
  "language_info": {
   "codemirror_mode": {
    "name": "ipython",
    "version": 3
   },
   "file_extension": ".py",
   "mimetype": "text/x-python",
   "name": "python",
   "nbconvert_exporter": "python",
   "pygments_lexer": "ipython3",
   "version": "3.10.12"
  },
  "papermill": {
   "default_parameters": {},
   "duration": 45.993017,
   "end_time": "2025-03-03T17:11:27.248987",
   "environment_variables": {},
   "exception": null,
   "input_path": "__notebook__.ipynb",
   "output_path": "__notebook__.ipynb",
   "parameters": {},
   "start_time": "2025-03-03T17:10:41.255970",
   "version": "2.6.0"
  }
 },
 "nbformat": 4,
 "nbformat_minor": 5
}
