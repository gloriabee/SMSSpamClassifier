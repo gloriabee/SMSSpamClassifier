{
 "cells": [
  {
   "cell_type": "code",
   "execution_count": 1,
   "id": "6652267c",
   "metadata": {
    "_cell_guid": "b1076dfc-b9ad-4769-8c92-a6c4dae69d19",
    "_uuid": "8f2839f25d086af736a60e9eeb907d3b93b6e0e5",
    "execution": {
     "iopub.execute_input": "2025-03-04T15:02:46.880260Z",
     "iopub.status.busy": "2025-03-04T15:02:46.879875Z",
     "iopub.status.idle": "2025-03-04T15:02:47.791096Z",
     "shell.execute_reply": "2025-03-04T15:02:47.789767Z"
    },
    "papermill": {
     "duration": 0.920967,
     "end_time": "2025-03-04T15:02:47.793184",
     "exception": false,
     "start_time": "2025-03-04T15:02:46.872217",
     "status": "completed"
    },
    "tags": []
   },
   "outputs": [
    {
     "name": "stdout",
     "output_type": "stream",
     "text": [
      "/kaggle/input/sms-spam-collection-dataset/spam.csv\n"
     ]
    }
   ],
   "source": [
    "# This Python 3 environment comes with many helpful analytics libraries installed\n",
    "# It is defined by the kaggle/python Docker image: https://github.com/kaggle/docker-python\n",
    "# For example, here's several helpful packages to load\n",
    "\n",
    "import numpy as np # linear algebra\n",
    "import pandas as pd # data processing, CSV file I/O (e.g. pd.read_csv)\n",
    "\n",
    "# Input data files are available in the read-only \"../input/\" directory\n",
    "# For example, running this (by clicking run or pressing Shift+Enter) will list all files under the input directory\n",
    "\n",
    "import os\n",
    "for dirname, _, filenames in os.walk('/kaggle/input'):\n",
    "    for filename in filenames:\n",
    "        print(os.path.join(dirname, filename))\n",
    "\n",
    "# You can write up to 20GB to the current directory (/kaggle/working/) that gets preserved as output when you create a version using \"Save & Run All\" \n",
    "# You can also write temporary files to /kaggle/temp/, but they won't be saved outside of the current session"
   ]
  },
  {
   "cell_type": "markdown",
   "id": "143ef3a6",
   "metadata": {
    "papermill": {
     "duration": 0.006031,
     "end_time": "2025-03-04T15:02:47.805819",
     "exception": false,
     "start_time": "2025-03-04T15:02:47.799788",
     "status": "completed"
    },
    "tags": []
   },
   "source": [
    "## Project Day"
   ]
  },
  {
   "cell_type": "markdown",
   "id": "710f069f",
   "metadata": {
    "papermill": {
     "duration": 0.005604,
     "end_time": "2025-03-04T15:02:47.817496",
     "exception": false,
     "start_time": "2025-03-04T15:02:47.811892",
     "status": "completed"
    },
    "tags": []
   },
   "source": [
    "### Importing the dataset"
   ]
  },
  {
   "cell_type": "code",
   "execution_count": 2,
   "id": "d248dcf0",
   "metadata": {
    "execution": {
     "iopub.execute_input": "2025-03-04T15:02:47.830094Z",
     "iopub.status.busy": "2025-03-04T15:02:47.829615Z",
     "iopub.status.idle": "2025-03-04T15:02:47.892696Z",
     "shell.execute_reply": "2025-03-04T15:02:47.891653Z"
    },
    "papermill": {
     "duration": 0.071208,
     "end_time": "2025-03-04T15:02:47.894487",
     "exception": false,
     "start_time": "2025-03-04T15:02:47.823279",
     "status": "completed"
    },
    "tags": []
   },
   "outputs": [
    {
     "data": {
      "text/html": [
       "<div>\n",
       "<style scoped>\n",
       "    .dataframe tbody tr th:only-of-type {\n",
       "        vertical-align: middle;\n",
       "    }\n",
       "\n",
       "    .dataframe tbody tr th {\n",
       "        vertical-align: top;\n",
       "    }\n",
       "\n",
       "    .dataframe thead th {\n",
       "        text-align: right;\n",
       "    }\n",
       "</style>\n",
       "<table border=\"1\" class=\"dataframe\">\n",
       "  <thead>\n",
       "    <tr style=\"text-align: right;\">\n",
       "      <th></th>\n",
       "      <th>label</th>\n",
       "      <th>message</th>\n",
       "    </tr>\n",
       "  </thead>\n",
       "  <tbody>\n",
       "    <tr>\n",
       "      <th>0</th>\n",
       "      <td>ham</td>\n",
       "      <td>Go until jurong point, crazy.. Available only ...</td>\n",
       "    </tr>\n",
       "    <tr>\n",
       "      <th>1</th>\n",
       "      <td>ham</td>\n",
       "      <td>Ok lar... Joking wif u oni...</td>\n",
       "    </tr>\n",
       "    <tr>\n",
       "      <th>2</th>\n",
       "      <td>spam</td>\n",
       "      <td>Free entry in 2 a wkly comp to win FA Cup fina...</td>\n",
       "    </tr>\n",
       "    <tr>\n",
       "      <th>3</th>\n",
       "      <td>ham</td>\n",
       "      <td>U dun say so early hor... U c already then say...</td>\n",
       "    </tr>\n",
       "    <tr>\n",
       "      <th>4</th>\n",
       "      <td>ham</td>\n",
       "      <td>Nah I don't think he goes to usf, he lives aro...</td>\n",
       "    </tr>\n",
       "  </tbody>\n",
       "</table>\n",
       "</div>"
      ],
      "text/plain": [
       "  label                                            message\n",
       "0   ham  Go until jurong point, crazy.. Available only ...\n",
       "1   ham                      Ok lar... Joking wif u oni...\n",
       "2  spam  Free entry in 2 a wkly comp to win FA Cup fina...\n",
       "3   ham  U dun say so early hor... U c already then say...\n",
       "4   ham  Nah I don't think he goes to usf, he lives aro..."
      ]
     },
     "execution_count": 2,
     "metadata": {},
     "output_type": "execute_result"
    }
   ],
   "source": [
    "df=pd.read_csv(\"/kaggle/input/sms-spam-collection-dataset/spam.csv\",encoding='latin-1')\n",
    "#dropping unrelated columns\n",
    "df=df.drop(columns=['Unnamed: 2', 'Unnamed: 3', 'Unnamed: 4'])\n",
    "#renaming columns\n",
    "df=df.rename(columns={\n",
    "     'v1':'label',\n",
    "    'v2':'message'\n",
    "}\n",
    ")\n",
    "df.head()"
   ]
  },
  {
   "cell_type": "code",
   "execution_count": 3,
   "id": "b2de518c",
   "metadata": {
    "execution": {
     "iopub.execute_input": "2025-03-04T15:02:47.907343Z",
     "iopub.status.busy": "2025-03-04T15:02:47.906981Z",
     "iopub.status.idle": "2025-03-04T15:02:47.912279Z",
     "shell.execute_reply": "2025-03-04T15:02:47.911436Z"
    },
    "papermill": {
     "duration": 0.013338,
     "end_time": "2025-03-04T15:02:47.913862",
     "exception": false,
     "start_time": "2025-03-04T15:02:47.900524",
     "status": "completed"
    },
    "tags": []
   },
   "outputs": [
    {
     "data": {
      "text/plain": [
       "(5572, 2)"
      ]
     },
     "execution_count": 3,
     "metadata": {},
     "output_type": "execute_result"
    }
   ],
   "source": [
    "#number of rows and columns\n",
    "df.shape"
   ]
  },
  {
   "cell_type": "markdown",
   "id": "73f28d3e",
   "metadata": {
    "papermill": {
     "duration": 0.005609,
     "end_time": "2025-03-04T15:02:47.925378",
     "exception": false,
     "start_time": "2025-03-04T15:02:47.919769",
     "status": "completed"
    },
    "tags": []
   },
   "source": [
    "### Data cleaning and preprocessing"
   ]
  },
  {
   "cell_type": "code",
   "execution_count": 4,
   "id": "dc7d7d00",
   "metadata": {
    "execution": {
     "iopub.execute_input": "2025-03-04T15:02:47.938088Z",
     "iopub.status.busy": "2025-03-04T15:02:47.937753Z",
     "iopub.status.idle": "2025-03-04T15:02:50.437068Z",
     "shell.execute_reply": "2025-03-04T15:02:50.436179Z"
    },
    "papermill": {
     "duration": 2.507413,
     "end_time": "2025-03-04T15:02:50.438630",
     "exception": false,
     "start_time": "2025-03-04T15:02:47.931217",
     "status": "completed"
    },
    "tags": []
   },
   "outputs": [
    {
     "name": "stdout",
     "output_type": "stream",
     "text": [
      "[nltk_data] Downloading package punkt to /usr/share/nltk_data...\n",
      "[nltk_data]   Package punkt is already up-to-date!\n"
     ]
    },
    {
     "data": {
      "text/plain": [
       "True"
      ]
     },
     "execution_count": 4,
     "metadata": {},
     "output_type": "execute_result"
    }
   ],
   "source": [
    "import re\n",
    "import nltk\n",
    "nltk.download('punkt')"
   ]
  },
  {
   "cell_type": "code",
   "execution_count": 5,
   "id": "64442b98",
   "metadata": {
    "execution": {
     "iopub.execute_input": "2025-03-04T15:02:50.452152Z",
     "iopub.status.busy": "2025-03-04T15:02:50.451667Z",
     "iopub.status.idle": "2025-03-04T15:02:50.955197Z",
     "shell.execute_reply": "2025-03-04T15:02:50.954105Z"
    },
    "papermill": {
     "duration": 0.512314,
     "end_time": "2025-03-04T15:02:50.957106",
     "exception": false,
     "start_time": "2025-03-04T15:02:50.444792",
     "status": "completed"
    },
    "tags": []
   },
   "outputs": [
    {
     "name": "stdout",
     "output_type": "stream",
     "text": [
      "Archive:  /usr/share/nltk_data/corpora/wordnet.zip\r\n",
      "   creating: /usr/share/nltk_data/corpora/wordnet/\r\n",
      "  inflating: /usr/share/nltk_data/corpora/wordnet/lexnames  \r\n",
      "  inflating: /usr/share/nltk_data/corpora/wordnet/data.verb  \r\n",
      "  inflating: /usr/share/nltk_data/corpora/wordnet/index.adv  \r\n",
      "  inflating: /usr/share/nltk_data/corpora/wordnet/adv.exc  \r\n",
      "  inflating: /usr/share/nltk_data/corpora/wordnet/index.verb  \r\n",
      "  inflating: /usr/share/nltk_data/corpora/wordnet/cntlist.rev  \r\n",
      "  inflating: /usr/share/nltk_data/corpora/wordnet/data.adj  \r\n",
      "  inflating: /usr/share/nltk_data/corpora/wordnet/index.adj  \r\n",
      "  inflating: /usr/share/nltk_data/corpora/wordnet/LICENSE  \r\n",
      "  inflating: /usr/share/nltk_data/corpora/wordnet/citation.bib  \r\n",
      "  inflating: /usr/share/nltk_data/corpora/wordnet/noun.exc  \r\n",
      "  inflating: /usr/share/nltk_data/corpora/wordnet/verb.exc  \r\n",
      "  inflating: /usr/share/nltk_data/corpora/wordnet/README  \r\n",
      "  inflating: /usr/share/nltk_data/corpora/wordnet/index.sense  \r\n",
      "  inflating: /usr/share/nltk_data/corpora/wordnet/data.noun  \r\n",
      "  inflating: /usr/share/nltk_data/corpora/wordnet/data.adv  \r\n",
      "  inflating: /usr/share/nltk_data/corpora/wordnet/index.noun  \r\n",
      "  inflating: /usr/share/nltk_data/corpora/wordnet/adj.exc  \r\n"
     ]
    }
   ],
   "source": [
    "from nltk.stem import PorterStemmer\n",
    "from nltk.corpus import stopwords\n",
    "from nltk.stem import WordNetLemmatizer\n",
    "!unzip /usr/share/nltk_data/corpora/wordnet.zip -d /usr/share/nltk_data/corpora/"
   ]
  },
  {
   "cell_type": "code",
   "execution_count": 6,
   "id": "a7bed6ef",
   "metadata": {
    "execution": {
     "iopub.execute_input": "2025-03-04T15:02:50.971167Z",
     "iopub.status.busy": "2025-03-04T15:02:50.970761Z",
     "iopub.status.idle": "2025-03-04T15:02:50.975015Z",
     "shell.execute_reply": "2025-03-04T15:02:50.974220Z"
    },
    "papermill": {
     "duration": 0.013016,
     "end_time": "2025-03-04T15:02:50.976626",
     "exception": false,
     "start_time": "2025-03-04T15:02:50.963610",
     "status": "completed"
    },
    "tags": []
   },
   "outputs": [],
   "source": [
    "ps=PorterStemmer()\n",
    "lemmatizer=WordNetLemmatizer()"
   ]
  },
  {
   "cell_type": "code",
   "execution_count": 7,
   "id": "4eda7864",
   "metadata": {
    "execution": {
     "iopub.execute_input": "2025-03-04T15:02:50.990482Z",
     "iopub.status.busy": "2025-03-04T15:02:50.990081Z",
     "iopub.status.idle": "2025-03-04T15:03:03.246103Z",
     "shell.execute_reply": "2025-03-04T15:03:03.245124Z"
    },
    "papermill": {
     "duration": 12.265187,
     "end_time": "2025-03-04T15:03:03.248095",
     "exception": false,
     "start_time": "2025-03-04T15:02:50.982908",
     "status": "completed"
    },
    "tags": []
   },
   "outputs": [],
   "source": [
    "corpus=[]\n",
    "for i in range(len(df)):\n",
    "    review= re.sub('[^a-zA-Z]',' ',df['message'][i])\n",
    "    review= review.lower()\n",
    "    review= review.split()\n",
    "    review= [ps.stem(word) for word in review if word not in set(stopwords.words(\"english\"))]\n",
    "    review= ' '.join(review)\n",
    "    corpus.append(review)\n",
    "    "
   ]
  },
  {
   "cell_type": "code",
   "execution_count": 8,
   "id": "3b74dab2",
   "metadata": {
    "execution": {
     "iopub.execute_input": "2025-03-04T15:03:03.262902Z",
     "iopub.status.busy": "2025-03-04T15:03:03.262559Z",
     "iopub.status.idle": "2025-03-04T15:03:03.271566Z",
     "shell.execute_reply": "2025-03-04T15:03:03.270555Z"
    },
    "papermill": {
     "duration": 0.018568,
     "end_time": "2025-03-04T15:03:03.273193",
     "exception": false,
     "start_time": "2025-03-04T15:03:03.254625",
     "status": "completed"
    },
    "tags": []
   },
   "outputs": [
    {
     "data": {
      "text/plain": [
       "0        ham\n",
       "1        ham\n",
       "2       spam\n",
       "3        ham\n",
       "4        ham\n",
       "        ... \n",
       "5567    spam\n",
       "5568     ham\n",
       "5569     ham\n",
       "5570     ham\n",
       "5571     ham\n",
       "Name: label, Length: 5572, dtype: object"
      ]
     },
     "execution_count": 8,
     "metadata": {},
     "output_type": "execute_result"
    }
   ],
   "source": [
    "df['label']"
   ]
  },
  {
   "cell_type": "markdown",
   "id": "22a0f5e2",
   "metadata": {
    "papermill": {
     "duration": 0.006128,
     "end_time": "2025-03-04T15:03:03.285809",
     "exception": false,
     "start_time": "2025-03-04T15:03:03.279681",
     "status": "completed"
    },
    "tags": []
   },
   "source": [
    "### Train,Test Split"
   ]
  },
  {
   "cell_type": "code",
   "execution_count": 9,
   "id": "0e61b1d6",
   "metadata": {
    "execution": {
     "iopub.execute_input": "2025-03-04T15:03:03.299626Z",
     "iopub.status.busy": "2025-03-04T15:03:03.299241Z",
     "iopub.status.idle": "2025-03-04T15:03:03.303222Z",
     "shell.execute_reply": "2025-03-04T15:03:03.302301Z"
    },
    "papermill": {
     "duration": 0.012943,
     "end_time": "2025-03-04T15:03:03.304894",
     "exception": false,
     "start_time": "2025-03-04T15:03:03.291951",
     "status": "completed"
    },
    "tags": []
   },
   "outputs": [],
   "source": [
    "from sklearn.model_selection import train_test_split"
   ]
  },
  {
   "cell_type": "code",
   "execution_count": 10,
   "id": "9e197c99",
   "metadata": {
    "execution": {
     "iopub.execute_input": "2025-03-04T15:03:03.318928Z",
     "iopub.status.busy": "2025-03-04T15:03:03.318579Z",
     "iopub.status.idle": "2025-03-04T15:03:03.327377Z",
     "shell.execute_reply": "2025-03-04T15:03:03.326338Z"
    },
    "papermill": {
     "duration": 0.017771,
     "end_time": "2025-03-04T15:03:03.329094",
     "exception": false,
     "start_time": "2025-03-04T15:03:03.311323",
     "status": "completed"
    },
    "tags": []
   },
   "outputs": [],
   "source": [
    "X_train,X_test,y_train,y_test= train_test_split(corpus,df['label'],test_size=0.20,random_state=0,shuffle=True)"
   ]
  },
  {
   "cell_type": "code",
   "execution_count": 11,
   "id": "4d154959",
   "metadata": {
    "execution": {
     "iopub.execute_input": "2025-03-04T15:03:03.343875Z",
     "iopub.status.busy": "2025-03-04T15:03:03.343513Z",
     "iopub.status.idle": "2025-03-04T15:03:03.357764Z",
     "shell.execute_reply": "2025-03-04T15:03:03.356768Z"
    },
    "papermill": {
     "duration": 0.023839,
     "end_time": "2025-03-04T15:03:03.359721",
     "exception": false,
     "start_time": "2025-03-04T15:03:03.335882",
     "status": "completed"
    },
    "tags": []
   },
   "outputs": [],
   "source": [
    "from sklearn.pipeline import Pipeline"
   ]
  },
  {
   "cell_type": "code",
   "execution_count": 12,
   "id": "b006a130",
   "metadata": {
    "execution": {
     "iopub.execute_input": "2025-03-04T15:03:03.374112Z",
     "iopub.status.busy": "2025-03-04T15:03:03.373750Z",
     "iopub.status.idle": "2025-03-04T15:03:03.694139Z",
     "shell.execute_reply": "2025-03-04T15:03:03.693183Z"
    },
    "papermill": {
     "duration": 0.329452,
     "end_time": "2025-03-04T15:03:03.695920",
     "exception": false,
     "start_time": "2025-03-04T15:03:03.366468",
     "status": "completed"
    },
    "tags": []
   },
   "outputs": [],
   "source": [
    "from sklearn.feature_extraction.text import TfidfVectorizer\n",
    "from sklearn.ensemble import RandomForestClassifier"
   ]
  },
  {
   "cell_type": "code",
   "execution_count": 13,
   "id": "bf5896af",
   "metadata": {
    "execution": {
     "iopub.execute_input": "2025-03-04T15:03:03.710581Z",
     "iopub.status.busy": "2025-03-04T15:03:03.710111Z",
     "iopub.status.idle": "2025-03-04T15:03:04.527741Z",
     "shell.execute_reply": "2025-03-04T15:03:04.526690Z"
    },
    "papermill": {
     "duration": 0.826643,
     "end_time": "2025-03-04T15:03:04.529261",
     "exception": false,
     "start_time": "2025-03-04T15:03:03.702618",
     "status": "completed"
    },
    "tags": []
   },
   "outputs": [
    {
     "data": {
      "text/html": [
       "<style>#sk-container-id-1 {color: black;background-color: white;}#sk-container-id-1 pre{padding: 0;}#sk-container-id-1 div.sk-toggleable {background-color: white;}#sk-container-id-1 label.sk-toggleable__label {cursor: pointer;display: block;width: 100%;margin-bottom: 0;padding: 0.3em;box-sizing: border-box;text-align: center;}#sk-container-id-1 label.sk-toggleable__label-arrow:before {content: \"▸\";float: left;margin-right: 0.25em;color: #696969;}#sk-container-id-1 label.sk-toggleable__label-arrow:hover:before {color: black;}#sk-container-id-1 div.sk-estimator:hover label.sk-toggleable__label-arrow:before {color: black;}#sk-container-id-1 div.sk-toggleable__content {max-height: 0;max-width: 0;overflow: hidden;text-align: left;background-color: #f0f8ff;}#sk-container-id-1 div.sk-toggleable__content pre {margin: 0.2em;color: black;border-radius: 0.25em;background-color: #f0f8ff;}#sk-container-id-1 input.sk-toggleable__control:checked~div.sk-toggleable__content {max-height: 200px;max-width: 100%;overflow: auto;}#sk-container-id-1 input.sk-toggleable__control:checked~label.sk-toggleable__label-arrow:before {content: \"▾\";}#sk-container-id-1 div.sk-estimator input.sk-toggleable__control:checked~label.sk-toggleable__label {background-color: #d4ebff;}#sk-container-id-1 div.sk-label input.sk-toggleable__control:checked~label.sk-toggleable__label {background-color: #d4ebff;}#sk-container-id-1 input.sk-hidden--visually {border: 0;clip: rect(1px 1px 1px 1px);clip: rect(1px, 1px, 1px, 1px);height: 1px;margin: -1px;overflow: hidden;padding: 0;position: absolute;width: 1px;}#sk-container-id-1 div.sk-estimator {font-family: monospace;background-color: #f0f8ff;border: 1px dotted black;border-radius: 0.25em;box-sizing: border-box;margin-bottom: 0.5em;}#sk-container-id-1 div.sk-estimator:hover {background-color: #d4ebff;}#sk-container-id-1 div.sk-parallel-item::after {content: \"\";width: 100%;border-bottom: 1px solid gray;flex-grow: 1;}#sk-container-id-1 div.sk-label:hover label.sk-toggleable__label {background-color: #d4ebff;}#sk-container-id-1 div.sk-serial::before {content: \"\";position: absolute;border-left: 1px solid gray;box-sizing: border-box;top: 0;bottom: 0;left: 50%;z-index: 0;}#sk-container-id-1 div.sk-serial {display: flex;flex-direction: column;align-items: center;background-color: white;padding-right: 0.2em;padding-left: 0.2em;position: relative;}#sk-container-id-1 div.sk-item {position: relative;z-index: 1;}#sk-container-id-1 div.sk-parallel {display: flex;align-items: stretch;justify-content: center;background-color: white;position: relative;}#sk-container-id-1 div.sk-item::before, #sk-container-id-1 div.sk-parallel-item::before {content: \"\";position: absolute;border-left: 1px solid gray;box-sizing: border-box;top: 0;bottom: 0;left: 50%;z-index: -1;}#sk-container-id-1 div.sk-parallel-item {display: flex;flex-direction: column;z-index: 1;position: relative;background-color: white;}#sk-container-id-1 div.sk-parallel-item:first-child::after {align-self: flex-end;width: 50%;}#sk-container-id-1 div.sk-parallel-item:last-child::after {align-self: flex-start;width: 50%;}#sk-container-id-1 div.sk-parallel-item:only-child::after {width: 0;}#sk-container-id-1 div.sk-dashed-wrapped {border: 1px dashed gray;margin: 0 0.4em 0.5em 0.4em;box-sizing: border-box;padding-bottom: 0.4em;background-color: white;}#sk-container-id-1 div.sk-label label {font-family: monospace;font-weight: bold;display: inline-block;line-height: 1.2em;}#sk-container-id-1 div.sk-label-container {text-align: center;}#sk-container-id-1 div.sk-container {/* jupyter's `normalize.less` sets `[hidden] { display: none; }` but bootstrap.min.css set `[hidden] { display: none !important; }` so we also need the `!important` here to be able to override the default hidden behavior on the sphinx rendered scikit-learn.org. See: https://github.com/scikit-learn/scikit-learn/issues/21755 */display: inline-block !important;position: relative;}#sk-container-id-1 div.sk-text-repr-fallback {display: none;}</style><div id=\"sk-container-id-1\" class=\"sk-top-container\"><div class=\"sk-text-repr-fallback\"><pre>Pipeline(steps=[(&#x27;tfidf&#x27;, TfidfVectorizer()),\n",
       "                (&#x27;rfc&#x27;, RandomForestClassifier(n_jobs=-1))])</pre><b>In a Jupyter environment, please rerun this cell to show the HTML representation or trust the notebook. <br />On GitHub, the HTML representation is unable to render, please try loading this page with nbviewer.org.</b></div><div class=\"sk-container\" hidden><div class=\"sk-item sk-dashed-wrapped\"><div class=\"sk-label-container\"><div class=\"sk-label sk-toggleable\"><input class=\"sk-toggleable__control sk-hidden--visually\" id=\"sk-estimator-id-1\" type=\"checkbox\" ><label for=\"sk-estimator-id-1\" class=\"sk-toggleable__label sk-toggleable__label-arrow\">Pipeline</label><div class=\"sk-toggleable__content\"><pre>Pipeline(steps=[(&#x27;tfidf&#x27;, TfidfVectorizer()),\n",
       "                (&#x27;rfc&#x27;, RandomForestClassifier(n_jobs=-1))])</pre></div></div></div><div class=\"sk-serial\"><div class=\"sk-item\"><div class=\"sk-estimator sk-toggleable\"><input class=\"sk-toggleable__control sk-hidden--visually\" id=\"sk-estimator-id-2\" type=\"checkbox\" ><label for=\"sk-estimator-id-2\" class=\"sk-toggleable__label sk-toggleable__label-arrow\">TfidfVectorizer</label><div class=\"sk-toggleable__content\"><pre>TfidfVectorizer()</pre></div></div></div><div class=\"sk-item\"><div class=\"sk-estimator sk-toggleable\"><input class=\"sk-toggleable__control sk-hidden--visually\" id=\"sk-estimator-id-3\" type=\"checkbox\" ><label for=\"sk-estimator-id-3\" class=\"sk-toggleable__label sk-toggleable__label-arrow\">RandomForestClassifier</label><div class=\"sk-toggleable__content\"><pre>RandomForestClassifier(n_jobs=-1)</pre></div></div></div></div></div></div></div>"
      ],
      "text/plain": [
       "Pipeline(steps=[('tfidf', TfidfVectorizer()),\n",
       "                ('rfc', RandomForestClassifier(n_jobs=-1))])"
      ]
     },
     "execution_count": 13,
     "metadata": {},
     "output_type": "execute_result"
    }
   ],
   "source": [
    "# model Building\n",
    "clf = Pipeline([('tfidf', TfidfVectorizer()), \n",
    "                ('rfc', RandomForestClassifier(n_estimators=100, n_jobs=-1))])\n",
    "\n",
    "clf.fit(X_train, y_train)"
   ]
  },
  {
   "cell_type": "code",
   "execution_count": 14,
   "id": "4d5780cc",
   "metadata": {
    "execution": {
     "iopub.execute_input": "2025-03-04T15:03:04.544084Z",
     "iopub.status.busy": "2025-03-04T15:03:04.543701Z",
     "iopub.status.idle": "2025-03-04T15:03:04.607787Z",
     "shell.execute_reply": "2025-03-04T15:03:04.606680Z"
    },
    "papermill": {
     "duration": 0.073656,
     "end_time": "2025-03-04T15:03:04.609697",
     "exception": false,
     "start_time": "2025-03-04T15:03:04.536041",
     "status": "completed"
    },
    "tags": []
   },
   "outputs": [],
   "source": [
    "y_pred= clf.predict(X_test)"
   ]
  },
  {
   "cell_type": "markdown",
   "id": "882ff0cf",
   "metadata": {
    "papermill": {
     "duration": 0.006372,
     "end_time": "2025-03-04T15:03:04.623138",
     "exception": false,
     "start_time": "2025-03-04T15:03:04.616766",
     "status": "completed"
    },
    "tags": []
   },
   "source": [
    "### Model evaluation"
   ]
  },
  {
   "cell_type": "code",
   "execution_count": 15,
   "id": "2db12266",
   "metadata": {
    "execution": {
     "iopub.execute_input": "2025-03-04T15:03:04.637665Z",
     "iopub.status.busy": "2025-03-04T15:03:04.637260Z",
     "iopub.status.idle": "2025-03-04T15:03:04.641718Z",
     "shell.execute_reply": "2025-03-04T15:03:04.640634Z"
    },
    "papermill": {
     "duration": 0.013621,
     "end_time": "2025-03-04T15:03:04.643369",
     "exception": false,
     "start_time": "2025-03-04T15:03:04.629748",
     "status": "completed"
    },
    "tags": []
   },
   "outputs": [],
   "source": [
    "from sklearn.metrics import accuracy_score,classification_report"
   ]
  },
  {
   "cell_type": "code",
   "execution_count": 16,
   "id": "324ede17",
   "metadata": {
    "execution": {
     "iopub.execute_input": "2025-03-04T15:03:04.658150Z",
     "iopub.status.busy": "2025-03-04T15:03:04.657822Z",
     "iopub.status.idle": "2025-03-04T15:03:04.665592Z",
     "shell.execute_reply": "2025-03-04T15:03:04.664455Z"
    },
    "papermill": {
     "duration": 0.017093,
     "end_time": "2025-03-04T15:03:04.667232",
     "exception": false,
     "start_time": "2025-03-04T15:03:04.650139",
     "status": "completed"
    },
    "tags": []
   },
   "outputs": [
    {
     "name": "stdout",
     "output_type": "stream",
     "text": [
      "0.9748878923766816\n"
     ]
    }
   ],
   "source": [
    "score= accuracy_score(y_test,y_pred)\n",
    "print(score)"
   ]
  },
  {
   "cell_type": "code",
   "execution_count": 17,
   "id": "4e7b2dd0",
   "metadata": {
    "execution": {
     "iopub.execute_input": "2025-03-04T15:03:04.681943Z",
     "iopub.status.busy": "2025-03-04T15:03:04.681616Z",
     "iopub.status.idle": "2025-03-04T15:03:04.723035Z",
     "shell.execute_reply": "2025-03-04T15:03:04.721785Z"
    },
    "papermill": {
     "duration": 0.05095,
     "end_time": "2025-03-04T15:03:04.724972",
     "exception": false,
     "start_time": "2025-03-04T15:03:04.674022",
     "status": "completed"
    },
    "tags": []
   },
   "outputs": [
    {
     "name": "stdout",
     "output_type": "stream",
     "text": [
      "              precision    recall  f1-score   support\n",
      "\n",
      "         ham       1.00      0.97      0.99       975\n",
      "        spam       0.84      0.99      0.91       140\n",
      "\n",
      "    accuracy                           0.97      1115\n",
      "   macro avg       0.92      0.98      0.95      1115\n",
      "weighted avg       0.98      0.97      0.98      1115\n",
      "\n"
     ]
    }
   ],
   "source": [
    "print(classification_report(y_pred,y_test))"
   ]
  },
  {
   "cell_type": "code",
   "execution_count": 18,
   "id": "c1e6285e",
   "metadata": {
    "execution": {
     "iopub.execute_input": "2025-03-04T15:03:04.740617Z",
     "iopub.status.busy": "2025-03-04T15:03:04.740221Z",
     "iopub.status.idle": "2025-03-04T15:03:04.773555Z",
     "shell.execute_reply": "2025-03-04T15:03:04.772497Z"
    },
    "papermill": {
     "duration": 0.042967,
     "end_time": "2025-03-04T15:03:04.775170",
     "exception": false,
     "start_time": "2025-03-04T15:03:04.732203",
     "status": "completed"
    },
    "tags": []
   },
   "outputs": [
    {
     "data": {
      "text/plain": [
       "array(['spam', 'ham'], dtype=object)"
      ]
     },
     "execution_count": 18,
     "metadata": {},
     "output_type": "execute_result"
    }
   ],
   "source": [
    "clf.predict(['you have won lottery ticket worth $1000, please click here to claim',\n",
    "            'hi, how are you doing today?'])"
   ]
  },
  {
   "cell_type": "code",
   "execution_count": 19,
   "id": "7282edab",
   "metadata": {
    "execution": {
     "iopub.execute_input": "2025-03-04T15:03:04.790222Z",
     "iopub.status.busy": "2025-03-04T15:03:04.789804Z",
     "iopub.status.idle": "2025-03-04T15:03:10.216772Z",
     "shell.execute_reply": "2025-03-04T15:03:10.215488Z"
    },
    "papermill": {
     "duration": 5.436651,
     "end_time": "2025-03-04T15:03:10.218876",
     "exception": false,
     "start_time": "2025-03-04T15:03:04.782225",
     "status": "completed"
    },
    "tags": []
   },
   "outputs": [
    {
     "name": "stdout",
     "output_type": "stream",
     "text": [
      "Requirement already satisfied: joblib in /usr/local/lib/python3.10/dist-packages (1.4.2)\r\n"
     ]
    }
   ],
   "source": [
    "!pip install joblib"
   ]
  },
  {
   "cell_type": "code",
   "execution_count": 20,
   "id": "1af08187",
   "metadata": {
    "execution": {
     "iopub.execute_input": "2025-03-04T15:03:10.234115Z",
     "iopub.status.busy": "2025-03-04T15:03:10.233707Z",
     "iopub.status.idle": "2025-03-04T15:03:10.238564Z",
     "shell.execute_reply": "2025-03-04T15:03:10.237498Z"
    },
    "papermill": {
     "duration": 0.014229,
     "end_time": "2025-03-04T15:03:10.240077",
     "exception": false,
     "start_time": "2025-03-04T15:03:10.225848",
     "status": "completed"
    },
    "tags": []
   },
   "outputs": [],
   "source": [
    "import joblib"
   ]
  },
  {
   "cell_type": "code",
   "execution_count": 21,
   "id": "5f9b65fc",
   "metadata": {
    "execution": {
     "iopub.execute_input": "2025-03-04T15:03:10.254941Z",
     "iopub.status.busy": "2025-03-04T15:03:10.254607Z",
     "iopub.status.idle": "2025-03-04T15:03:10.348021Z",
     "shell.execute_reply": "2025-03-04T15:03:10.346988Z"
    },
    "papermill": {
     "duration": 0.102763,
     "end_time": "2025-03-04T15:03:10.349813",
     "exception": false,
     "start_time": "2025-03-04T15:03:10.247050",
     "status": "completed"
    },
    "tags": []
   },
   "outputs": [
    {
     "data": {
      "text/plain": [
       "['clasi_model.pkl']"
      ]
     },
     "execution_count": 21,
     "metadata": {},
     "output_type": "execute_result"
    }
   ],
   "source": [
    "joblib.dump(clf,\"clasi_model.pkl\")"
   ]
  },
  {
   "cell_type": "code",
   "execution_count": 22,
   "id": "dcbb6b4f",
   "metadata": {
    "execution": {
     "iopub.execute_input": "2025-03-04T15:03:10.364633Z",
     "iopub.status.busy": "2025-03-04T15:03:10.364270Z",
     "iopub.status.idle": "2025-03-04T15:03:10.430744Z",
     "shell.execute_reply": "2025-03-04T15:03:10.429799Z"
    },
    "papermill": {
     "duration": 0.075772,
     "end_time": "2025-03-04T15:03:10.432542",
     "exception": false,
     "start_time": "2025-03-04T15:03:10.356770",
     "status": "completed"
    },
    "tags": []
   },
   "outputs": [],
   "source": [
    "model=joblib.load(\"clasi_model.pkl\")\n"
   ]
  },
  {
   "cell_type": "code",
   "execution_count": 23,
   "id": "269927df",
   "metadata": {
    "execution": {
     "iopub.execute_input": "2025-03-04T15:03:10.448111Z",
     "iopub.status.busy": "2025-03-04T15:03:10.447770Z",
     "iopub.status.idle": "2025-03-04T15:03:10.481876Z",
     "shell.execute_reply": "2025-03-04T15:03:10.480838Z"
    },
    "papermill": {
     "duration": 0.043795,
     "end_time": "2025-03-04T15:03:10.483533",
     "exception": false,
     "start_time": "2025-03-04T15:03:10.439738",
     "status": "completed"
    },
    "tags": []
   },
   "outputs": [
    {
     "data": {
      "text/plain": [
       "array(['spam', 'ham'], dtype=object)"
      ]
     },
     "execution_count": 23,
     "metadata": {},
     "output_type": "execute_result"
    }
   ],
   "source": [
    "model.predict(['you have won lottery ticket worth $1000, please click here to claim',\n",
    "            'hi, how are you doing today?'])"
   ]
  },
  {
   "cell_type": "code",
   "execution_count": 24,
   "id": "66c3fe9e",
   "metadata": {
    "execution": {
     "iopub.execute_input": "2025-03-04T15:03:10.499119Z",
     "iopub.status.busy": "2025-03-04T15:03:10.498777Z",
     "iopub.status.idle": "2025-03-04T15:03:16.759271Z",
     "shell.execute_reply": "2025-03-04T15:03:16.758095Z"
    },
    "papermill": {
     "duration": 6.270718,
     "end_time": "2025-03-04T15:03:16.761256",
     "exception": false,
     "start_time": "2025-03-04T15:03:10.490538",
     "status": "completed"
    },
    "tags": []
   },
   "outputs": [
    {
     "name": "stdout",
     "output_type": "stream",
     "text": [
      "Collecting streamlit\r\n",
      "  Downloading streamlit-1.42.2-py2.py3-none-any.whl.metadata (8.9 kB)\r\n",
      "Requirement already satisfied: altair<6,>=4.0 in /usr/local/lib/python3.10/dist-packages (from streamlit) (5.5.0)\r\n",
      "Requirement already satisfied: blinker<2,>=1.0.0 in /usr/local/lib/python3.10/dist-packages (from streamlit) (1.9.0)\r\n",
      "Requirement already satisfied: cachetools<6,>=4.0 in /usr/local/lib/python3.10/dist-packages (from streamlit) (5.5.0)\r\n",
      "Requirement already satisfied: click<9,>=7.0 in /usr/local/lib/python3.10/dist-packages (from streamlit) (8.1.7)\r\n",
      "Requirement already satisfied: numpy<3,>=1.23 in /usr/local/lib/python3.10/dist-packages (from streamlit) (1.26.4)\r\n",
      "Requirement already satisfied: packaging<25,>=20 in /usr/local/lib/python3.10/dist-packages (from streamlit) (24.2)\r\n",
      "Requirement already satisfied: pandas<3,>=1.4.0 in /usr/local/lib/python3.10/dist-packages (from streamlit) (2.2.3)\r\n",
      "Requirement already satisfied: pillow<12,>=7.1.0 in /usr/local/lib/python3.10/dist-packages (from streamlit) (11.0.0)\r\n",
      "Requirement already satisfied: protobuf<6,>=3.20 in /usr/local/lib/python3.10/dist-packages (from streamlit) (3.20.3)\r\n",
      "Requirement already satisfied: pyarrow>=7.0 in /usr/local/lib/python3.10/dist-packages (from streamlit) (19.0.1)\r\n",
      "Requirement already satisfied: requests<3,>=2.27 in /usr/local/lib/python3.10/dist-packages (from streamlit) (2.32.3)\r\n",
      "Requirement already satisfied: rich<14,>=10.14.0 in /usr/local/lib/python3.10/dist-packages (from streamlit) (13.9.4)\r\n",
      "Requirement already satisfied: tenacity<10,>=8.1.0 in /usr/local/lib/python3.10/dist-packages (from streamlit) (9.0.0)\r\n",
      "Requirement already satisfied: toml<2,>=0.10.1 in /usr/local/lib/python3.10/dist-packages (from streamlit) (0.10.2)\r\n",
      "Requirement already satisfied: typing-extensions<5,>=4.4.0 in /usr/local/lib/python3.10/dist-packages (from streamlit) (4.12.2)\r\n",
      "Requirement already satisfied: watchdog<7,>=2.1.5 in /usr/local/lib/python3.10/dist-packages (from streamlit) (6.0.0)\r\n",
      "Requirement already satisfied: gitpython!=3.1.19,<4,>=3.0.7 in /usr/local/lib/python3.10/dist-packages (from streamlit) (3.1.43)\r\n",
      "Collecting pydeck<1,>=0.8.0b4 (from streamlit)\r\n",
      "  Downloading pydeck-0.9.1-py2.py3-none-any.whl.metadata (4.1 kB)\r\n",
      "Requirement already satisfied: tornado<7,>=6.0.3 in /usr/local/lib/python3.10/dist-packages (from streamlit) (6.3.3)\r\n",
      "Requirement already satisfied: jinja2 in /usr/local/lib/python3.10/dist-packages (from altair<6,>=4.0->streamlit) (3.1.4)\r\n",
      "Requirement already satisfied: jsonschema>=3.0 in /usr/local/lib/python3.10/dist-packages (from altair<6,>=4.0->streamlit) (4.23.0)\r\n",
      "Requirement already satisfied: narwhals>=1.14.2 in /usr/local/lib/python3.10/dist-packages (from altair<6,>=4.0->streamlit) (1.18.4)\r\n",
      "Requirement already satisfied: gitdb<5,>=4.0.1 in /usr/local/lib/python3.10/dist-packages (from gitpython!=3.1.19,<4,>=3.0.7->streamlit) (4.0.11)\r\n",
      "Requirement already satisfied: mkl_fft in /usr/local/lib/python3.10/dist-packages (from numpy<3,>=1.23->streamlit) (1.3.8)\r\n",
      "Requirement already satisfied: mkl_random in /usr/local/lib/python3.10/dist-packages (from numpy<3,>=1.23->streamlit) (1.2.4)\r\n",
      "Requirement already satisfied: mkl_umath in /usr/local/lib/python3.10/dist-packages (from numpy<3,>=1.23->streamlit) (0.1.1)\r\n",
      "Requirement already satisfied: mkl in /usr/local/lib/python3.10/dist-packages (from numpy<3,>=1.23->streamlit) (2025.0.1)\r\n",
      "Requirement already satisfied: tbb4py in /usr/local/lib/python3.10/dist-packages (from numpy<3,>=1.23->streamlit) (2022.0.0)\r\n",
      "Requirement already satisfied: mkl-service in /usr/local/lib/python3.10/dist-packages (from numpy<3,>=1.23->streamlit) (2.4.1)\r\n",
      "Requirement already satisfied: python-dateutil>=2.8.2 in /usr/local/lib/python3.10/dist-packages (from pandas<3,>=1.4.0->streamlit) (2.9.0.post0)\r\n",
      "Requirement already satisfied: pytz>=2020.1 in /usr/local/lib/python3.10/dist-packages (from pandas<3,>=1.4.0->streamlit) (2025.1)\r\n",
      "Requirement already satisfied: tzdata>=2022.7 in /usr/local/lib/python3.10/dist-packages (from pandas<3,>=1.4.0->streamlit) (2025.1)\r\n",
      "Requirement already satisfied: charset-normalizer<4,>=2 in /usr/local/lib/python3.10/dist-packages (from requests<3,>=2.27->streamlit) (3.4.1)\r\n",
      "Requirement already satisfied: idna<4,>=2.5 in /usr/local/lib/python3.10/dist-packages (from requests<3,>=2.27->streamlit) (3.10)\r\n",
      "Requirement already satisfied: urllib3<3,>=1.21.1 in /usr/local/lib/python3.10/dist-packages (from requests<3,>=2.27->streamlit) (2.3.0)\r\n",
      "Requirement already satisfied: certifi>=2017.4.17 in /usr/local/lib/python3.10/dist-packages (from requests<3,>=2.27->streamlit) (2025.1.31)\r\n",
      "Requirement already satisfied: markdown-it-py>=2.2.0 in /usr/local/lib/python3.10/dist-packages (from rich<14,>=10.14.0->streamlit) (3.0.0)\r\n",
      "Requirement already satisfied: pygments<3.0.0,>=2.13.0 in /usr/local/lib/python3.10/dist-packages (from rich<14,>=10.14.0->streamlit) (2.19.1)\r\n",
      "Requirement already satisfied: smmap<6,>=3.0.1 in /usr/local/lib/python3.10/dist-packages (from gitdb<5,>=4.0.1->gitpython!=3.1.19,<4,>=3.0.7->streamlit) (5.0.1)\r\n",
      "Requirement already satisfied: MarkupSafe>=2.0 in /usr/local/lib/python3.10/dist-packages (from jinja2->altair<6,>=4.0->streamlit) (3.0.2)\r\n",
      "Requirement already satisfied: attrs>=22.2.0 in /usr/local/lib/python3.10/dist-packages (from jsonschema>=3.0->altair<6,>=4.0->streamlit) (25.1.0)\r\n",
      "Requirement already satisfied: jsonschema-specifications>=2023.03.6 in /usr/local/lib/python3.10/dist-packages (from jsonschema>=3.0->altair<6,>=4.0->streamlit) (2024.10.1)\r\n",
      "Requirement already satisfied: referencing>=0.28.4 in /usr/local/lib/python3.10/dist-packages (from jsonschema>=3.0->altair<6,>=4.0->streamlit) (0.35.1)\r\n",
      "Requirement already satisfied: rpds-py>=0.7.1 in /usr/local/lib/python3.10/dist-packages (from jsonschema>=3.0->altair<6,>=4.0->streamlit) (0.22.3)\r\n",
      "Requirement already satisfied: mdurl~=0.1 in /usr/local/lib/python3.10/dist-packages (from markdown-it-py>=2.2.0->rich<14,>=10.14.0->streamlit) (0.1.2)\r\n",
      "Requirement already satisfied: six>=1.5 in /usr/local/lib/python3.10/dist-packages (from python-dateutil>=2.8.2->pandas<3,>=1.4.0->streamlit) (1.17.0)\r\n",
      "Requirement already satisfied: intel-openmp>=2024 in /usr/local/lib/python3.10/dist-packages (from mkl->numpy<3,>=1.23->streamlit) (2024.2.0)\r\n",
      "Requirement already satisfied: tbb==2022.* in /usr/local/lib/python3.10/dist-packages (from mkl->numpy<3,>=1.23->streamlit) (2022.0.0)\r\n",
      "Requirement already satisfied: tcmlib==1.* in /usr/local/lib/python3.10/dist-packages (from tbb==2022.*->mkl->numpy<3,>=1.23->streamlit) (1.2.0)\r\n",
      "Requirement already satisfied: intel-cmplr-lib-rt in /usr/local/lib/python3.10/dist-packages (from mkl_umath->numpy<3,>=1.23->streamlit) (2024.2.0)\r\n",
      "Requirement already satisfied: intel-cmplr-lib-ur==2024.2.0 in /usr/local/lib/python3.10/dist-packages (from intel-openmp>=2024->mkl->numpy<3,>=1.23->streamlit) (2024.2.0)\r\n",
      "Downloading streamlit-1.42.2-py2.py3-none-any.whl (9.6 MB)\r\n",
      "\u001b[2K   \u001b[90m━━━━━━━━━━━━━━━━━━━━━━━━━━━━━━━━━━━━━━━━\u001b[0m \u001b[32m9.6/9.6 MB\u001b[0m \u001b[31m40.7 MB/s\u001b[0m eta \u001b[36m0:00:00\u001b[0m\r\n",
      "\u001b[?25hDownloading pydeck-0.9.1-py2.py3-none-any.whl (6.9 MB)\r\n",
      "\u001b[2K   \u001b[90m━━━━━━━━━━━━━━━━━━━━━━━━━━━━━━━━━━━━━━━━\u001b[0m \u001b[32m6.9/6.9 MB\u001b[0m \u001b[31m86.7 MB/s\u001b[0m eta \u001b[36m0:00:00\u001b[0m\r\n",
      "\u001b[?25hInstalling collected packages: pydeck, streamlit\r\n",
      "Successfully installed pydeck-0.9.1 streamlit-1.42.2\r\n"
     ]
    }
   ],
   "source": [
    "!pip install streamlit"
   ]
  }
 ],
 "metadata": {
  "kaggle": {
   "accelerator": "none",
   "dataSources": [
    {
     "datasetId": 483,
     "sourceId": 982,
     "sourceType": "datasetVersion"
    }
   ],
   "dockerImageVersionId": 30918,
   "isGpuEnabled": false,
   "isInternetEnabled": true,
   "language": "python",
   "sourceType": "notebook"
  },
  "kernelspec": {
   "display_name": "Python 3",
   "language": "python",
   "name": "python3"
  },
  "language_info": {
   "codemirror_mode": {
    "name": "ipython",
    "version": 3
   },
   "file_extension": ".py",
   "mimetype": "text/x-python",
   "name": "python",
   "nbconvert_exporter": "python",
   "pygments_lexer": "ipython3",
   "version": "3.10.12"
  },
  "papermill": {
   "default_parameters": {},
   "duration": 33.491734,
   "end_time": "2025-03-04T15:03:17.590960",
   "environment_variables": {},
   "exception": null,
   "input_path": "__notebook__.ipynb",
   "output_path": "__notebook__.ipynb",
   "parameters": {},
   "start_time": "2025-03-04T15:02:44.099226",
   "version": "2.6.0"
  }
 },
 "nbformat": 4,
 "nbformat_minor": 5
}
